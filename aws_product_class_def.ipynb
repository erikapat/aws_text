{
 "cells": [
  {
   "cell_type": "markdown",
   "metadata": {},
   "source": [
    "## **PRODUCT CATEGORY CLASSIFICATION**\n",
    "\n",
    "### Here, we want to develop an automatic and scalable first prototipe that helps to correctly categorize a new product in the available categories when it arrives.\n",
    "\n",
    "This first prototipe will help us to identify in what elements we have to go deeper in order to get the best model.\n"
   ]
  },
  {
   "cell_type": "markdown",
   "metadata": {},
   "source": [
    "https://towardsdatascience.com/unsupervised-nlp-topic-models-as-a-supervised-learning-input-cf8ee9e5cf28\n",
    "https://www.dataquest.io/blog/natural-language-processing-with-python/"
   ]
  },
  {
   "cell_type": "markdown",
   "metadata": {},
   "source": [
    "## **Summary of requirements**\n",
    "\n",
    "1. Train a model that predicts the product category for Software, Digital Software, and\n",
    "Digital Video Games products using the Amazon Customer Reviews dataset.\n",
    "2. Evaluate and validate your model."
   ]
  },
  {
   "cell_type": "code",
   "execution_count": 1,
   "metadata": {},
   "outputs": [],
   "source": [
    "# I checked warnings, but for the final report I prefer ignore those \n",
    "#that really does not affect the results (warnings of libraries, etc)\n",
    "import warnings\n",
    "warnings.simplefilter('ignore')"
   ]
  },
  {
   "cell_type": "code",
   "execution_count": 2,
   "metadata": {},
   "outputs": [
    {
     "data": {
      "text/plain": [
       "'64bit'"
      ]
     },
     "execution_count": 2,
     "metadata": {},
     "output_type": "execute_result"
    }
   ],
   "source": [
    "import platform\n",
    "platform.architecture()[0]"
   ]
  },
  {
   "cell_type": "code",
   "execution_count": 3,
   "metadata": {},
   "outputs": [],
   "source": [
    "#Further improvement: develop an enviroment\n",
    "# Basic Modules\n",
    "import os\n",
    "import pandas as pd\n",
    "import numpy as np\n",
    "import boto3\n",
    "import json\n",
    "import matplotlib.pyplot as plt\n",
    "#from sagemaker.predictor import json_deserializer"
   ]
  },
  {
   "cell_type": "code",
   "execution_count": 4,
   "metadata": {},
   "outputs": [],
   "source": [
    "#MOdels\n",
    "from sklearn.linear_model import LogisticRegression"
   ]
  },
  {
   "cell_type": "code",
   "execution_count": 5,
   "metadata": {},
   "outputs": [
    {
     "name": "stderr",
     "output_type": "stream",
     "text": [
      "Using TensorFlow backend.\n"
     ]
    }
   ],
   "source": [
    "# Modules for tokens\n",
    "from keras.preprocessing.text import Tokenizer\n",
    "from keras.preprocessing.sequence import pad_sequences\n",
    "from keras.utils import to_categorical"
   ]
  },
  {
   "cell_type": "code",
   "execution_count": 6,
   "metadata": {},
   "outputs": [],
   "source": [
    "#my own functions\n",
    "%load_ext autoreload\n",
    "%autoreload 2\n",
    "\n",
    "from utils.py_functions import *\n",
    "from utils.cleaning_functions import *"
   ]
  },
  {
   "cell_type": "markdown",
   "metadata": {},
   "source": [
    "## **DATA**\n",
    "For our problem we use will three datasets from public datasets of Amazon. This datasets contains Customer Reviews fro three category of products.\n",
    "\n",
    "* Software\n",
    "* Digital Software\n",
    "* Digital video games"
   ]
  },
  {
   "cell_type": "code",
   "execution_count": 7,
   "metadata": {},
   "outputs": [
    {
     "data": {
      "text/plain": [
       "'\\n!mkdir /tmp/recsys/\\n!aws s3 cp s3://amazon-reviews-pds/tsv/amazon_reviews_us_Digital_Video_Games_v1_00.tsv.gz /tmp/recsys/\\n!aws s3 cp s3://amazon-reviews-pds/tsv/amazon_reviews_us_Software_v1_00.tsv.gz /tmp/recsys/\\n!aws s3 cp s3://amazon-reviews-pds/tsv/amazon_reviews_us_Digital_Software_v1_00.tsv.gz /tmp/recsys/\\n'"
      ]
     },
     "execution_count": 7,
     "metadata": {},
     "output_type": "execute_result"
    }
   ],
   "source": [
    "'''\n",
    "!mkdir /tmp/recsys/\n",
    "!aws s3 cp s3://amazon-reviews-pds/tsv/amazon_reviews_us_Digital_Video_Games_v1_00.tsv.gz /tmp/recsys/\n",
    "!aws s3 cp s3://amazon-reviews-pds/tsv/amazon_reviews_us_Software_v1_00.tsv.gz /tmp/recsys/\n",
    "!aws s3 cp s3://amazon-reviews-pds/tsv/amazon_reviews_us_Digital_Software_v1_00.tsv.gz /tmp/recsys/\n",
    "'''"
   ]
  },
  {
   "cell_type": "code",
   "execution_count": 8,
   "metadata": {},
   "outputs": [
    {
     "name": "stdout",
     "output_type": "stream",
     "text": [
      "Number of rows:  (144724, 15)\n"
     ]
    },
    {
     "name": "stderr",
     "output_type": "stream",
     "text": [
      "b'Skipping line 8021: expected 15 fields, saw 22\\nSkipping line 34886: expected 15 fields, saw 22\\nSkipping line 49286: expected 15 fields, saw 22\\n'\n"
     ]
    },
    {
     "name": "stdout",
     "output_type": "stream",
     "text": [
      "Number of rows:  (341249, 15)\n",
      "Number of rows:  (101836, 15)\n"
     ]
    }
   ],
   "source": [
    "df_video_games = pd.read_csv('data/amazon_reviews_us_Digital_Video_Games_v1_00.tsv', delimiter = '\\t', error_bad_lines = False)\n",
    "print('Number of rows: ', df_video_games.shape)\n",
    "df_software = pd.read_csv('data/amazon_reviews_us_Software_v1_00.tsv', delimiter = '\\t', error_bad_lines = False)\n",
    "print('Number of rows: ', df_software.shape)\n",
    "df_digital_software = pd.read_csv('data/amazon_reviews_us_Digital_Software_v1_00.tsv', delimiter = '\\t', error_bad_lines = False)\n",
    "print('Number of rows: ', df_digital_software.shape)"
   ]
  },
  {
   "cell_type": "code",
   "execution_count": 9,
   "metadata": {},
   "outputs": [
    {
     "data": {
      "text/plain": [
       "Index(['marketplace', 'customer_id', 'review_id', 'product_id',\n",
       "       'product_parent', 'product_title', 'product_category', 'star_rating',\n",
       "       'helpful_votes', 'total_votes', 'vine', 'verified_purchase',\n",
       "       'review_headline', 'review_body', 'review_date'],\n",
       "      dtype='object')"
      ]
     },
     "execution_count": 9,
     "metadata": {},
     "output_type": "execute_result"
    }
   ],
   "source": [
    "df_video_games.columns"
   ]
  },
  {
   "cell_type": "markdown",
   "metadata": {},
   "source": [
    "## **Dataset columns**\n",
    "\n",
    "* marketplace: 2-letter country\n",
    "* customer_id: random identifier for a customer\n",
    "* review_id: unique id for the review\n",
    "* product_id: ASIN number. Unique id for product\n",
    "* product_parent: the parent of that ASIN. Multiple ASINs (color or format variations of the same product) can roll up into a single parent parent.\n",
    "* product_title: title/description of the product\n",
    "* product_category: brad product category\n",
    "* star_rating: 1 to 5 stars (review rating)\n",
    "* helpful_votes: Number of helpful votes for the review\n",
    "* total_votes: number of total votes the review received\n",
    "* vine: Was the review written as part of the VIne program?\n",
    "* verified_purchase: Was the review from a verified purchase?\n",
    "* review_headline: the title of the review itself\n",
    "* review_body: text of the review\n",
    "* review_date: the date of the review was written."
   ]
  },
  {
   "cell_type": "code",
   "execution_count": 10,
   "metadata": {},
   "outputs": [
    {
     "data": {
      "text/html": [
       "<div>\n",
       "<style scoped>\n",
       "    .dataframe tbody tr th:only-of-type {\n",
       "        vertical-align: middle;\n",
       "    }\n",
       "\n",
       "    .dataframe tbody tr th {\n",
       "        vertical-align: top;\n",
       "    }\n",
       "\n",
       "    .dataframe thead th {\n",
       "        text-align: right;\n",
       "    }\n",
       "</style>\n",
       "<table border=\"1\" class=\"dataframe\">\n",
       "  <thead>\n",
       "    <tr style=\"text-align: right;\">\n",
       "      <th></th>\n",
       "      <th>marketplace</th>\n",
       "      <th>customer_id</th>\n",
       "      <th>review_id</th>\n",
       "      <th>product_id</th>\n",
       "      <th>product_parent</th>\n",
       "      <th>product_title</th>\n",
       "      <th>product_category</th>\n",
       "      <th>star_rating</th>\n",
       "      <th>helpful_votes</th>\n",
       "      <th>total_votes</th>\n",
       "      <th>vine</th>\n",
       "      <th>verified_purchase</th>\n",
       "      <th>review_headline</th>\n",
       "      <th>review_body</th>\n",
       "      <th>review_date</th>\n",
       "    </tr>\n",
       "  </thead>\n",
       "  <tbody>\n",
       "    <tr>\n",
       "      <td>144719</td>\n",
       "      <td>US</td>\n",
       "      <td>53011810</td>\n",
       "      <td>R2G7DI8NYXZB5R</td>\n",
       "      <td>B001AUEITS</td>\n",
       "      <td>163061733</td>\n",
       "      <td>Crazy Machines 2 [Download]</td>\n",
       "      <td>Digital_Video_Games</td>\n",
       "      <td>4</td>\n",
       "      <td>2</td>\n",
       "      <td>3</td>\n",
       "      <td>N</td>\n",
       "      <td>N</td>\n",
       "      <td>Worked first try for me</td>\n",
       "      <td>I was worried due to the 2 reviews I saw here,...</td>\n",
       "      <td>2008-12-25</td>\n",
       "    </tr>\n",
       "    <tr>\n",
       "      <td>144720</td>\n",
       "      <td>US</td>\n",
       "      <td>53094564</td>\n",
       "      <td>R3QRKP4DS759BP</td>\n",
       "      <td>B001AU6TQ8</td>\n",
       "      <td>801870836</td>\n",
       "      <td>Crazy Machines 1 - The Wacky Contraptions Game...</td>\n",
       "      <td>Digital_Video_Games</td>\n",
       "      <td>1</td>\n",
       "      <td>13</td>\n",
       "      <td>16</td>\n",
       "      <td>N</td>\n",
       "      <td>N</td>\n",
       "      <td>The Software May be Great, But I'll Never Know</td>\n",
       "      <td>I downloaded this as a Christmas present for m...</td>\n",
       "      <td>2008-12-24</td>\n",
       "    </tr>\n",
       "    <tr>\n",
       "      <td>144721</td>\n",
       "      <td>US</td>\n",
       "      <td>37181147</td>\n",
       "      <td>R24K4C0ZC3093U</td>\n",
       "      <td>B001AUEITS</td>\n",
       "      <td>163061733</td>\n",
       "      <td>Crazy Machines 2 [Download]</td>\n",
       "      <td>Digital_Video_Games</td>\n",
       "      <td>3</td>\n",
       "      <td>3</td>\n",
       "      <td>3</td>\n",
       "      <td>N</td>\n",
       "      <td>N</td>\n",
       "      <td>Some install problems but good otherwise</td>\n",
       "      <td>The previous reviewer is correct in noting tha...</td>\n",
       "      <td>2008-09-10</td>\n",
       "    </tr>\n",
       "    <tr>\n",
       "      <td>144722</td>\n",
       "      <td>US</td>\n",
       "      <td>18614365</td>\n",
       "      <td>R13OA3TRCM8IBM</td>\n",
       "      <td>B001AUEITS</td>\n",
       "      <td>163061733</td>\n",
       "      <td>Crazy Machines 2 [Download]</td>\n",
       "      <td>Digital_Video_Games</td>\n",
       "      <td>1</td>\n",
       "      <td>20</td>\n",
       "      <td>22</td>\n",
       "      <td>N</td>\n",
       "      <td>N</td>\n",
       "      <td>Do Not Download This!</td>\n",
       "      <td>I downloaded this for my son's birthday yester...</td>\n",
       "      <td>2008-09-01</td>\n",
       "    </tr>\n",
       "    <tr>\n",
       "      <td>144723</td>\n",
       "      <td>US</td>\n",
       "      <td>28326760</td>\n",
       "      <td>R1PFDIHC9TM6V4</td>\n",
       "      <td>B000AQ7K4I</td>\n",
       "      <td>99419628</td>\n",
       "      <td>Emperor of the Fading Suns</td>\n",
       "      <td>Digital_Video_Games</td>\n",
       "      <td>4</td>\n",
       "      <td>4</td>\n",
       "      <td>4</td>\n",
       "      <td>N</td>\n",
       "      <td>N</td>\n",
       "      <td>Suprisingly large scale and complex strategy game</td>\n",
       "      <td>This game has all the makings of a wonderful t...</td>\n",
       "      <td>2006-08-08</td>\n",
       "    </tr>\n",
       "  </tbody>\n",
       "</table>\n",
       "</div>"
      ],
      "text/plain": [
       "       marketplace  customer_id       review_id  product_id  product_parent  \\\n",
       "144719          US     53011810  R2G7DI8NYXZB5R  B001AUEITS       163061733   \n",
       "144720          US     53094564  R3QRKP4DS759BP  B001AU6TQ8       801870836   \n",
       "144721          US     37181147  R24K4C0ZC3093U  B001AUEITS       163061733   \n",
       "144722          US     18614365  R13OA3TRCM8IBM  B001AUEITS       163061733   \n",
       "144723          US     28326760  R1PFDIHC9TM6V4  B000AQ7K4I        99419628   \n",
       "\n",
       "                                            product_title  \\\n",
       "144719                        Crazy Machines 2 [Download]   \n",
       "144720  Crazy Machines 1 - The Wacky Contraptions Game...   \n",
       "144721                        Crazy Machines 2 [Download]   \n",
       "144722                        Crazy Machines 2 [Download]   \n",
       "144723                         Emperor of the Fading Suns   \n",
       "\n",
       "           product_category  star_rating  helpful_votes  total_votes vine  \\\n",
       "144719  Digital_Video_Games            4              2            3    N   \n",
       "144720  Digital_Video_Games            1             13           16    N   \n",
       "144721  Digital_Video_Games            3              3            3    N   \n",
       "144722  Digital_Video_Games            1             20           22    N   \n",
       "144723  Digital_Video_Games            4              4            4    N   \n",
       "\n",
       "       verified_purchase                                    review_headline  \\\n",
       "144719                 N                            Worked first try for me   \n",
       "144720                 N     The Software May be Great, But I'll Never Know   \n",
       "144721                 N           Some install problems but good otherwise   \n",
       "144722                 N                              Do Not Download This!   \n",
       "144723                 N  Suprisingly large scale and complex strategy game   \n",
       "\n",
       "                                              review_body review_date  \n",
       "144719  I was worried due to the 2 reviews I saw here,...  2008-12-25  \n",
       "144720  I downloaded this as a Christmas present for m...  2008-12-24  \n",
       "144721  The previous reviewer is correct in noting tha...  2008-09-10  \n",
       "144722  I downloaded this for my son's birthday yester...  2008-09-01  \n",
       "144723  This game has all the makings of a wonderful t...  2006-08-08  "
      ]
     },
     "execution_count": 10,
     "metadata": {},
     "output_type": "execute_result"
    }
   ],
   "source": [
    "df_video_games.tail()"
   ]
  },
  {
   "cell_type": "markdown",
   "metadata": {},
   "source": [
    "## **DROP SOME COLUMNS**\n",
    "\n",
    "### When a new product arrives the only available information would be product title. A new product will not have rating, votes or reviews."
   ]
  },
  {
   "cell_type": "code",
   "execution_count": 11,
   "metadata": {},
   "outputs": [],
   "source": [
    "df_digital_software = df_digital_software.drop(columns = ['marketplace', 'customer_id', 'product_parent', 'vine', 'review_date'])\n",
    "df_software         = df_software.drop(columns = ['marketplace', 'customer_id', 'product_parent',  'vine', 'review_date'])\n",
    "df_video_games      = df_video_games.drop(columns = ['marketplace', 'customer_id', 'product_parent', 'vine', 'review_date'])"
   ]
  },
  {
   "cell_type": "code",
   "execution_count": 12,
   "metadata": {},
   "outputs": [
    {
     "data": {
      "text/html": [
       "<div>\n",
       "<style scoped>\n",
       "    .dataframe tbody tr th:only-of-type {\n",
       "        vertical-align: middle;\n",
       "    }\n",
       "\n",
       "    .dataframe tbody tr th {\n",
       "        vertical-align: top;\n",
       "    }\n",
       "\n",
       "    .dataframe thead th {\n",
       "        text-align: right;\n",
       "    }\n",
       "</style>\n",
       "<table border=\"1\" class=\"dataframe\">\n",
       "  <thead>\n",
       "    <tr style=\"text-align: right;\">\n",
       "      <th></th>\n",
       "      <th>review_id</th>\n",
       "      <th>product_id</th>\n",
       "      <th>product_title</th>\n",
       "      <th>product_category</th>\n",
       "      <th>star_rating</th>\n",
       "      <th>helpful_votes</th>\n",
       "      <th>total_votes</th>\n",
       "      <th>verified_purchase</th>\n",
       "      <th>review_headline</th>\n",
       "      <th>review_body</th>\n",
       "    </tr>\n",
       "  </thead>\n",
       "  <tbody>\n",
       "    <tr>\n",
       "      <td>341244</td>\n",
       "      <td>R22N983F9Y5B7H</td>\n",
       "      <td>0877794618</td>\n",
       "      <td>Merriam-Webster’s Medical Audio Dictionary</td>\n",
       "      <td>Software</td>\n",
       "      <td>5</td>\n",
       "      <td>5</td>\n",
       "      <td>7</td>\n",
       "      <td>N</td>\n",
       "      <td>My name is Maeda, and I love this CR-ROM.</td>\n",
       "      <td>I am a medical student.  I loved this CD-ROM v...</td>\n",
       "    </tr>\n",
       "    <tr>\n",
       "      <td>341245</td>\n",
       "      <td>RZ9DND08T95KF</td>\n",
       "      <td>0877794618</td>\n",
       "      <td>Merriam-Webster’s Medical Audio Dictionary</td>\n",
       "      <td>Software</td>\n",
       "      <td>5</td>\n",
       "      <td>3</td>\n",
       "      <td>5</td>\n",
       "      <td>N</td>\n",
       "      <td>I'd rather give 6 stars to this title</td>\n",
       "      <td>I tried a Taber's, but was disappointed: he do...</td>\n",
       "    </tr>\n",
       "    <tr>\n",
       "      <td>341246</td>\n",
       "      <td>R3EDTMHC38P95O</td>\n",
       "      <td>B00002SV6E</td>\n",
       "      <td>Star Wars: Droid Works</td>\n",
       "      <td>Software</td>\n",
       "      <td>4</td>\n",
       "      <td>1</td>\n",
       "      <td>1</td>\n",
       "      <td>N</td>\n",
       "      <td>Droid building</td>\n",
       "      <td>You get to build droids even ones in existence...</td>\n",
       "    </tr>\n",
       "    <tr>\n",
       "      <td>341247</td>\n",
       "      <td>R1LYRNM6CTLUG4</td>\n",
       "      <td>0671573535</td>\n",
       "      <td>Star Trek Borg</td>\n",
       "      <td>Software</td>\n",
       "      <td>1</td>\n",
       "      <td>0</td>\n",
       "      <td>2</td>\n",
       "      <td>N</td>\n",
       "      <td>don't buy this game</td>\n",
       "      <td>We have not been able to even run this game be...</td>\n",
       "    </tr>\n",
       "    <tr>\n",
       "      <td>341248</td>\n",
       "      <td>R21PP8R25RNBKG</td>\n",
       "      <td>0877794618</td>\n",
       "      <td>Merriam-Webster’s Medical Audio Dictionary</td>\n",
       "      <td>Software</td>\n",
       "      <td>3</td>\n",
       "      <td>12</td>\n",
       "      <td>13</td>\n",
       "      <td>N</td>\n",
       "      <td>An Easy-to-Use Medical Dictionary with Excelle...</td>\n",
       "      <td>Merriam-Webster's Medical Audio Dictionary is ...</td>\n",
       "    </tr>\n",
       "  </tbody>\n",
       "</table>\n",
       "</div>"
      ],
      "text/plain": [
       "             review_id  product_id  \\\n",
       "341244  R22N983F9Y5B7H  0877794618   \n",
       "341245   RZ9DND08T95KF  0877794618   \n",
       "341246  R3EDTMHC38P95O  B00002SV6E   \n",
       "341247  R1LYRNM6CTLUG4  0671573535   \n",
       "341248  R21PP8R25RNBKG  0877794618   \n",
       "\n",
       "                                     product_title product_category  \\\n",
       "341244  Merriam-Webster’s Medical Audio Dictionary         Software   \n",
       "341245  Merriam-Webster’s Medical Audio Dictionary         Software   \n",
       "341246                      Star Wars: Droid Works         Software   \n",
       "341247                              Star Trek Borg         Software   \n",
       "341248  Merriam-Webster’s Medical Audio Dictionary         Software   \n",
       "\n",
       "        star_rating  helpful_votes  total_votes verified_purchase  \\\n",
       "341244            5              5            7                 N   \n",
       "341245            5              3            5                 N   \n",
       "341246            4              1            1                 N   \n",
       "341247            1              0            2                 N   \n",
       "341248            3             12           13                 N   \n",
       "\n",
       "                                          review_headline  \\\n",
       "341244          My name is Maeda, and I love this CR-ROM.   \n",
       "341245              I'd rather give 6 stars to this title   \n",
       "341246                                     Droid building   \n",
       "341247                                don't buy this game   \n",
       "341248  An Easy-to-Use Medical Dictionary with Excelle...   \n",
       "\n",
       "                                              review_body  \n",
       "341244  I am a medical student.  I loved this CD-ROM v...  \n",
       "341245  I tried a Taber's, but was disappointed: he do...  \n",
       "341246  You get to build droids even ones in existence...  \n",
       "341247  We have not been able to even run this game be...  \n",
       "341248  Merriam-Webster's Medical Audio Dictionary is ...  "
      ]
     },
     "execution_count": 12,
     "metadata": {},
     "output_type": "execute_result"
    }
   ],
   "source": [
    "df = pd.concat([df_digital_software, df_video_games, df_software], axis=0)\n",
    "df.tail()"
   ]
  },
  {
   "cell_type": "code",
   "execution_count": 13,
   "metadata": {},
   "outputs": [
    {
     "data": {
      "text/plain": [
       "review_id            object\n",
       "product_id           object\n",
       "product_title        object\n",
       "product_category     object\n",
       "star_rating           int64\n",
       "helpful_votes         int64\n",
       "total_votes           int64\n",
       "verified_purchase    object\n",
       "review_headline      object\n",
       "review_body          object\n",
       "dtype: object"
      ]
     },
     "execution_count": 13,
     "metadata": {},
     "output_type": "execute_result"
    }
   ],
   "source": [
    "df.dtypes"
   ]
  },
  {
   "cell_type": "markdown",
   "metadata": {},
   "source": [
    "## **CHECK IF WE HAVE MISSING VALUES**\n",
    "\n",
    "We have missing data in review_headline, review_body. We have to eliminate it or fix this in order to keep going with the analysis. "
   ]
  },
  {
   "cell_type": "code",
   "execution_count": 14,
   "metadata": {},
   "outputs": [
    {
     "data": {
      "text/plain": [
       "review_id            0\n",
       "product_id           0\n",
       "product_title        0\n",
       "product_category     0\n",
       "star_rating          0\n",
       "helpful_votes        0\n",
       "total_votes          0\n",
       "verified_purchase    0\n",
       "review_headline      5\n",
       "review_body          4\n",
       "dtype: int64"
      ]
     },
     "execution_count": 14,
     "metadata": {},
     "output_type": "execute_result"
    }
   ],
   "source": [
    "## check for missing values\n",
    "df.isnull().sum()"
   ]
  },
  {
   "cell_type": "markdown",
   "metadata": {},
   "source": [
    "### We can see that the na's are not at the same rows."
   ]
  },
  {
   "cell_type": "code",
   "execution_count": 15,
   "metadata": {},
   "outputs": [
    {
     "data": {
      "text/html": [
       "<div>\n",
       "<style scoped>\n",
       "    .dataframe tbody tr th:only-of-type {\n",
       "        vertical-align: middle;\n",
       "    }\n",
       "\n",
       "    .dataframe tbody tr th {\n",
       "        vertical-align: top;\n",
       "    }\n",
       "\n",
       "    .dataframe thead th {\n",
       "        text-align: right;\n",
       "    }\n",
       "</style>\n",
       "<table border=\"1\" class=\"dataframe\">\n",
       "  <thead>\n",
       "    <tr style=\"text-align: right;\">\n",
       "      <th></th>\n",
       "      <th>review_id</th>\n",
       "      <th>product_id</th>\n",
       "      <th>product_title</th>\n",
       "      <th>product_category</th>\n",
       "      <th>star_rating</th>\n",
       "      <th>helpful_votes</th>\n",
       "      <th>total_votes</th>\n",
       "      <th>verified_purchase</th>\n",
       "      <th>review_headline</th>\n",
       "      <th>review_body</th>\n",
       "    </tr>\n",
       "  </thead>\n",
       "  <tbody>\n",
       "    <tr>\n",
       "      <td>3074</td>\n",
       "      <td>R3355NIW709DC7</td>\n",
       "      <td>B00452VGXO</td>\n",
       "      <td>The Sims 3 Late Night</td>\n",
       "      <td>Digital_Video_Games</td>\n",
       "      <td>1</td>\n",
       "      <td>0</td>\n",
       "      <td>0</td>\n",
       "      <td>Y</td>\n",
       "      <td>NaN</td>\n",
       "      <td>Product code does not work.</td>\n",
       "    </tr>\n",
       "    <tr>\n",
       "      <td>11907</td>\n",
       "      <td>RKHI9WDB7S5WR</td>\n",
       "      <td>B008D7F47Q</td>\n",
       "      <td>FIFA Soccer 13</td>\n",
       "      <td>Digital_Video_Games</td>\n",
       "      <td>5</td>\n",
       "      <td>0</td>\n",
       "      <td>0</td>\n",
       "      <td>N</td>\n",
       "      <td>Five Stars</td>\n",
       "      <td>NaN</td>\n",
       "    </tr>\n",
       "    <tr>\n",
       "      <td>14470</td>\n",
       "      <td>R2UJ6J6TUON90A</td>\n",
       "      <td>B00S00IJH8</td>\n",
       "      <td>Sims 4</td>\n",
       "      <td>Digital_Video_Games</td>\n",
       "      <td>2</td>\n",
       "      <td>0</td>\n",
       "      <td>2</td>\n",
       "      <td>N</td>\n",
       "      <td>Two Stars</td>\n",
       "      <td>NaN</td>\n",
       "    </tr>\n",
       "    <tr>\n",
       "      <td>128119</td>\n",
       "      <td>RNKTSBVIU8VUI</td>\n",
       "      <td>B004VSTQ2A</td>\n",
       "      <td>Xbox Live Subscription</td>\n",
       "      <td>Digital_Video_Games</td>\n",
       "      <td>1</td>\n",
       "      <td>1</td>\n",
       "      <td>8</td>\n",
       "      <td>Y</td>\n",
       "      <td>NaN</td>\n",
       "      <td>I DID NOT BUY THIS PRODUCT SO I AM CONFUSED AS...</td>\n",
       "    </tr>\n",
       "    <tr>\n",
       "      <td>21683</td>\n",
       "      <td>R3PR9MGYHNCQY8</td>\n",
       "      <td>B00MUTB2SS</td>\n",
       "      <td>McAfee 2015 Antivirus Plus 3 PC (3-Users)</td>\n",
       "      <td>Software</td>\n",
       "      <td>1</td>\n",
       "      <td>1</td>\n",
       "      <td>1</td>\n",
       "      <td>Y</td>\n",
       "      <td>NaN</td>\n",
       "      <td>I am giving this one star because I am unable ...</td>\n",
       "    </tr>\n",
       "    <tr>\n",
       "      <td>55474</td>\n",
       "      <td>RBTYQ8AT2FYQO</td>\n",
       "      <td>B00EOI2ND6</td>\n",
       "      <td>HRB 2011 Basic FFP Test ASIN (Formerly: Micros...</td>\n",
       "      <td>Software</td>\n",
       "      <td>4</td>\n",
       "      <td>0</td>\n",
       "      <td>0</td>\n",
       "      <td>N</td>\n",
       "      <td>Four Stars</td>\n",
       "      <td>NaN</td>\n",
       "    </tr>\n",
       "    <tr>\n",
       "      <td>76722</td>\n",
       "      <td>R2BMEAJE97HVS1</td>\n",
       "      <td>B001GL6QHS</td>\n",
       "      <td>TurboTax Deluxe Federal + State + eFile 2008</td>\n",
       "      <td>Software</td>\n",
       "      <td>4</td>\n",
       "      <td>0</td>\n",
       "      <td>0</td>\n",
       "      <td>Y</td>\n",
       "      <td>Four Stars</td>\n",
       "      <td>NaN</td>\n",
       "    </tr>\n",
       "    <tr>\n",
       "      <td>178530</td>\n",
       "      <td>R11DUZE2KLAAWW</td>\n",
       "      <td>B000M9DOTS</td>\n",
       "      <td>MorphVOX Pro - Voice Changer</td>\n",
       "      <td>Software</td>\n",
       "      <td>4</td>\n",
       "      <td>0</td>\n",
       "      <td>1</td>\n",
       "      <td>Y</td>\n",
       "      <td>NaN</td>\n",
       "      <td>Product worked was able to play with applicati...</td>\n",
       "    </tr>\n",
       "    <tr>\n",
       "      <td>281897</td>\n",
       "      <td>R19OZEXLR6BHQB</td>\n",
       "      <td>B00008NNY0</td>\n",
       "      <td>Instant CD/DVD</td>\n",
       "      <td>Software</td>\n",
       "      <td>1</td>\n",
       "      <td>0</td>\n",
       "      <td>4</td>\n",
       "      <td>N</td>\n",
       "      <td>NaN</td>\n",
       "      <td>Shortly after buying the product I had to repl...</td>\n",
       "    </tr>\n",
       "  </tbody>\n",
       "</table>\n",
       "</div>"
      ],
      "text/plain": [
       "             review_id  product_id  \\\n",
       "3074    R3355NIW709DC7  B00452VGXO   \n",
       "11907    RKHI9WDB7S5WR  B008D7F47Q   \n",
       "14470   R2UJ6J6TUON90A  B00S00IJH8   \n",
       "128119   RNKTSBVIU8VUI  B004VSTQ2A   \n",
       "21683   R3PR9MGYHNCQY8  B00MUTB2SS   \n",
       "55474    RBTYQ8AT2FYQO  B00EOI2ND6   \n",
       "76722   R2BMEAJE97HVS1  B001GL6QHS   \n",
       "178530  R11DUZE2KLAAWW  B000M9DOTS   \n",
       "281897  R19OZEXLR6BHQB  B00008NNY0   \n",
       "\n",
       "                                            product_title  \\\n",
       "3074                                The Sims 3 Late Night   \n",
       "11907                                      FIFA Soccer 13   \n",
       "14470                                              Sims 4   \n",
       "128119                             Xbox Live Subscription   \n",
       "21683           McAfee 2015 Antivirus Plus 3 PC (3-Users)   \n",
       "55474   HRB 2011 Basic FFP Test ASIN (Formerly: Micros...   \n",
       "76722        TurboTax Deluxe Federal + State + eFile 2008   \n",
       "178530                       MorphVOX Pro - Voice Changer   \n",
       "281897                                     Instant CD/DVD   \n",
       "\n",
       "           product_category  star_rating  helpful_votes  total_votes  \\\n",
       "3074    Digital_Video_Games            1              0            0   \n",
       "11907   Digital_Video_Games            5              0            0   \n",
       "14470   Digital_Video_Games            2              0            2   \n",
       "128119  Digital_Video_Games            1              1            8   \n",
       "21683              Software            1              1            1   \n",
       "55474              Software            4              0            0   \n",
       "76722              Software            4              0            0   \n",
       "178530             Software            4              0            1   \n",
       "281897             Software            1              0            4   \n",
       "\n",
       "       verified_purchase review_headline  \\\n",
       "3074                   Y             NaN   \n",
       "11907                  N      Five Stars   \n",
       "14470                  N       Two Stars   \n",
       "128119                 Y             NaN   \n",
       "21683                  Y             NaN   \n",
       "55474                  N      Four Stars   \n",
       "76722                  Y      Four Stars   \n",
       "178530                 Y             NaN   \n",
       "281897                 N             NaN   \n",
       "\n",
       "                                              review_body  \n",
       "3074                          Product code does not work.  \n",
       "11907                                                 NaN  \n",
       "14470                                                 NaN  \n",
       "128119  I DID NOT BUY THIS PRODUCT SO I AM CONFUSED AS...  \n",
       "21683   I am giving this one star because I am unable ...  \n",
       "55474                                                 NaN  \n",
       "76722                                                 NaN  \n",
       "178530  Product worked was able to play with applicati...  \n",
       "281897  Shortly after buying the product I had to repl...  "
      ]
     },
     "execution_count": 15,
     "metadata": {},
     "output_type": "execute_result"
    }
   ],
   "source": [
    "\n",
    "df[df.isnull().any(axis=1)]"
   ]
  },
  {
   "cell_type": "markdown",
   "metadata": {},
   "source": [
    "### Fill values"
   ]
  },
  {
   "cell_type": "code",
   "execution_count": 16,
   "metadata": {},
   "outputs": [],
   "source": [
    "df.review_headline.fillna(df.review_body, inplace=True)\n",
    "df.review_body.fillna(df.review_headline, inplace=True)"
   ]
  },
  {
   "cell_type": "markdown",
   "metadata": {},
   "source": [
    "## **Check for white strings**"
   ]
  },
  {
   "cell_type": "code",
   "execution_count": 17,
   "metadata": {},
   "outputs": [
    {
     "name": "stdout",
     "output_type": "stream",
     "text": [
      "0 blanks:  []\n"
     ]
    }
   ],
   "source": [
    "blanks = []  # start with an empty list\n",
    "\n",
    "for i,lb,rv in df[['product_category','review_body']].itertuples():  # iterate over the DataFrame , 'product_title', 'verified_purchase', 'review_headline'\n",
    "    if type(rv)==str:            # avoid NaN values\n",
    "        if rv.isspace():         # test 'review' for whitespace\n",
    "            blanks.append(i)     # add matching index numbers to the list\n",
    "        \n",
    "print(len(blanks), 'blanks: ', blanks)"
   ]
  },
  {
   "cell_type": "code",
   "execution_count": 18,
   "metadata": {},
   "outputs": [
    {
     "name": "stdout",
     "output_type": "stream",
     "text": [
      "0 blanks:  []\n"
     ]
    }
   ],
   "source": [
    "blanks = []  # start with an empty list\n",
    "\n",
    "for i,lb,rv in df[['product_title', 'review_headline']].itertuples():  # iterate over the DataFrame , \n",
    "    if type(rv)==str:            # avoid NaN values\n",
    "        if rv.isspace():         # test 'review' for whitespace\n",
    "            blanks.append(i)     # add matching index numbers to the list\n",
    "        \n",
    "print(len(blanks), 'blanks: ', blanks)  "
   ]
  },
  {
   "cell_type": "markdown",
   "metadata": {},
   "source": [
    "## **Check duplicates**\n",
    "\n",
    "We can se that we have several duplicated values."
   ]
  },
  {
   "cell_type": "code",
   "execution_count": 19,
   "metadata": {},
   "outputs": [
    {
     "data": {
      "text/html": [
       "<div>\n",
       "<style scoped>\n",
       "    .dataframe tbody tr th:only-of-type {\n",
       "        vertical-align: middle;\n",
       "    }\n",
       "\n",
       "    .dataframe tbody tr th {\n",
       "        vertical-align: top;\n",
       "    }\n",
       "\n",
       "    .dataframe thead th {\n",
       "        text-align: right;\n",
       "    }\n",
       "</style>\n",
       "<table border=\"1\" class=\"dataframe\">\n",
       "  <thead>\n",
       "    <tr style=\"text-align: right;\">\n",
       "      <th></th>\n",
       "      <th>review_id</th>\n",
       "      <th>product_id</th>\n",
       "      <th>product_title</th>\n",
       "      <th>product_category</th>\n",
       "      <th>star_rating</th>\n",
       "      <th>helpful_votes</th>\n",
       "      <th>total_votes</th>\n",
       "      <th>verified_purchase</th>\n",
       "      <th>review_headline</th>\n",
       "      <th>review_body</th>\n",
       "    </tr>\n",
       "  </thead>\n",
       "  <tbody>\n",
       "    <tr>\n",
       "      <td>384</td>\n",
       "      <td>RMEZL8TXWV4M</td>\n",
       "      <td>B00LH6ZWIG</td>\n",
       "      <td>Autodesk Sketchbook Pro 7</td>\n",
       "      <td>Digital_Software</td>\n",
       "      <td>4</td>\n",
       "      <td>0</td>\n",
       "      <td>0</td>\n",
       "      <td>N</td>\n",
       "      <td>Great on the Surface Pro 3</td>\n",
       "      <td>I use this as a drawing program on the desktop...</td>\n",
       "    </tr>\n",
       "    <tr>\n",
       "      <td>1608</td>\n",
       "      <td>R323M3Q9QPSKWC</td>\n",
       "      <td>B0064PFB9U</td>\n",
       "      <td>Office Mac Home and Student 2011 - 1PC/1User [...</td>\n",
       "      <td>Digital_Software</td>\n",
       "      <td>5</td>\n",
       "      <td>0</td>\n",
       "      <td>0</td>\n",
       "      <td>Y</td>\n",
       "      <td>Five Stars</td>\n",
       "      <td>perfect</td>\n",
       "    </tr>\n",
       "    <tr>\n",
       "      <td>1659</td>\n",
       "      <td>R2BT71OH5WHUC0</td>\n",
       "      <td>B00PT6GQY4</td>\n",
       "      <td>LibreOffice v4.3</td>\n",
       "      <td>Digital_Software</td>\n",
       "      <td>4</td>\n",
       "      <td>0</td>\n",
       "      <td>0</td>\n",
       "      <td>N</td>\n",
       "      <td>IT IS OKAY</td>\n",
       "      <td>WELL IT IS NOT MICROSOFT OFFICE 365. BUT IT WO...</td>\n",
       "    </tr>\n",
       "    <tr>\n",
       "      <td>1954</td>\n",
       "      <td>RTSQYFWGYN3A</td>\n",
       "      <td>B00PT6GQY4</td>\n",
       "      <td>LibreOffice v4.3</td>\n",
       "      <td>Digital_Software</td>\n",
       "      <td>4</td>\n",
       "      <td>0</td>\n",
       "      <td>0</td>\n",
       "      <td>N</td>\n",
       "      <td>Works fine</td>\n",
       "      <td>It seems to work okay and does resemble Micros...</td>\n",
       "    </tr>\n",
       "    <tr>\n",
       "      <td>2923</td>\n",
       "      <td>R35L0R8D2TH7HZ</td>\n",
       "      <td>B00B1TGUMG</td>\n",
       "      <td>Microsoft Office Home and Student 2013 (1PC/1U...</td>\n",
       "      <td>Digital_Software</td>\n",
       "      <td>5</td>\n",
       "      <td>0</td>\n",
       "      <td>0</td>\n",
       "      <td>Y</td>\n",
       "      <td>Five Stars</td>\n",
       "      <td>Great!</td>\n",
       "    </tr>\n",
       "    <tr>\n",
       "      <td>...</td>\n",
       "      <td>...</td>\n",
       "      <td>...</td>\n",
       "      <td>...</td>\n",
       "      <td>...</td>\n",
       "      <td>...</td>\n",
       "      <td>...</td>\n",
       "      <td>...</td>\n",
       "      <td>...</td>\n",
       "      <td>...</td>\n",
       "      <td>...</td>\n",
       "    </tr>\n",
       "    <tr>\n",
       "      <td>338808</td>\n",
       "      <td>R3BIKLE2AZMTPA</td>\n",
       "      <td>B00002SAGF</td>\n",
       "      <td>Ez-gig Data Transfer Software License (50-pack)</td>\n",
       "      <td>Software</td>\n",
       "      <td>4</td>\n",
       "      <td>0</td>\n",
       "      <td>1</td>\n",
       "      <td>N</td>\n",
       "      <td>Wowsers! Holy Gigabytes Amazon!!</td>\n",
       "      <td>This has to be one of the most useful tools ou...</td>\n",
       "    </tr>\n",
       "    <tr>\n",
       "      <td>338812</td>\n",
       "      <td>REMWOWSZNS6CX</td>\n",
       "      <td>B00002SAGF</td>\n",
       "      <td>Ez-gig Data Transfer Software License (50-pack)</td>\n",
       "      <td>Software</td>\n",
       "      <td>4</td>\n",
       "      <td>0</td>\n",
       "      <td>1</td>\n",
       "      <td>N</td>\n",
       "      <td>Wowsers! Holy Gigabytes Amazon!!</td>\n",
       "      <td>This has to be one of the most useful tools ou...</td>\n",
       "    </tr>\n",
       "    <tr>\n",
       "      <td>339247</td>\n",
       "      <td>R1MKLNG8NI2TLI</td>\n",
       "      <td>B00004TFIV</td>\n",
       "      <td>Strata 3D 3.0</td>\n",
       "      <td>Software</td>\n",
       "      <td>4</td>\n",
       "      <td>0</td>\n",
       "      <td>0</td>\n",
       "      <td>N</td>\n",
       "      <td>Cool and Easy</td>\n",
       "      <td>This is very easy to use and it has lots of go...</td>\n",
       "    </tr>\n",
       "    <tr>\n",
       "      <td>339249</td>\n",
       "      <td>R39RCD5P43QKOR</td>\n",
       "      <td>B00004TFIV</td>\n",
       "      <td>Strata 3D 3.0</td>\n",
       "      <td>Software</td>\n",
       "      <td>4</td>\n",
       "      <td>0</td>\n",
       "      <td>0</td>\n",
       "      <td>N</td>\n",
       "      <td>Cool and Easy</td>\n",
       "      <td>This is very easy to use and it has lots of go...</td>\n",
       "    </tr>\n",
       "    <tr>\n",
       "      <td>339799</td>\n",
       "      <td>RSJ5YE1QFVMCJ</td>\n",
       "      <td>B00002S7NV</td>\n",
       "      <td>Music Games</td>\n",
       "      <td>Software</td>\n",
       "      <td>4</td>\n",
       "      <td>0</td>\n",
       "      <td>0</td>\n",
       "      <td>N</td>\n",
       "      <td>music games</td>\n",
       "      <td>Music Games is a fun educational game which th...</td>\n",
       "    </tr>\n",
       "  </tbody>\n",
       "</table>\n",
       "<p>3167 rows × 10 columns</p>\n",
       "</div>"
      ],
      "text/plain": [
       "             review_id  product_id  \\\n",
       "384       RMEZL8TXWV4M  B00LH6ZWIG   \n",
       "1608    R323M3Q9QPSKWC  B0064PFB9U   \n",
       "1659    R2BT71OH5WHUC0  B00PT6GQY4   \n",
       "1954      RTSQYFWGYN3A  B00PT6GQY4   \n",
       "2923    R35L0R8D2TH7HZ  B00B1TGUMG   \n",
       "...                ...         ...   \n",
       "338808  R3BIKLE2AZMTPA  B00002SAGF   \n",
       "338812   REMWOWSZNS6CX  B00002SAGF   \n",
       "339247  R1MKLNG8NI2TLI  B00004TFIV   \n",
       "339249  R39RCD5P43QKOR  B00004TFIV   \n",
       "339799   RSJ5YE1QFVMCJ  B00002S7NV   \n",
       "\n",
       "                                            product_title  product_category  \\\n",
       "384                             Autodesk Sketchbook Pro 7  Digital_Software   \n",
       "1608    Office Mac Home and Student 2011 - 1PC/1User [...  Digital_Software   \n",
       "1659                                     LibreOffice v4.3  Digital_Software   \n",
       "1954                                     LibreOffice v4.3  Digital_Software   \n",
       "2923    Microsoft Office Home and Student 2013 (1PC/1U...  Digital_Software   \n",
       "...                                                   ...               ...   \n",
       "338808    Ez-gig Data Transfer Software License (50-pack)          Software   \n",
       "338812    Ez-gig Data Transfer Software License (50-pack)          Software   \n",
       "339247                                      Strata 3D 3.0          Software   \n",
       "339249                                      Strata 3D 3.0          Software   \n",
       "339799                                        Music Games          Software   \n",
       "\n",
       "        star_rating  helpful_votes  total_votes verified_purchase  \\\n",
       "384               4              0            0                 N   \n",
       "1608              5              0            0                 Y   \n",
       "1659              4              0            0                 N   \n",
       "1954              4              0            0                 N   \n",
       "2923              5              0            0                 Y   \n",
       "...             ...            ...          ...               ...   \n",
       "338808            4              0            1                 N   \n",
       "338812            4              0            1                 N   \n",
       "339247            4              0            0                 N   \n",
       "339249            4              0            0                 N   \n",
       "339799            4              0            0                 N   \n",
       "\n",
       "                         review_headline  \\\n",
       "384           Great on the Surface Pro 3   \n",
       "1608                          Five Stars   \n",
       "1659                          IT IS OKAY   \n",
       "1954                          Works fine   \n",
       "2923                          Five Stars   \n",
       "...                                  ...   \n",
       "338808  Wowsers! Holy Gigabytes Amazon!!   \n",
       "338812  Wowsers! Holy Gigabytes Amazon!!   \n",
       "339247                     Cool and Easy   \n",
       "339249                     Cool and Easy   \n",
       "339799                       music games   \n",
       "\n",
       "                                              review_body  \n",
       "384     I use this as a drawing program on the desktop...  \n",
       "1608                                              perfect  \n",
       "1659    WELL IT IS NOT MICROSOFT OFFICE 365. BUT IT WO...  \n",
       "1954    It seems to work okay and does resemble Micros...  \n",
       "2923                                               Great!  \n",
       "...                                                   ...  \n",
       "338808  This has to be one of the most useful tools ou...  \n",
       "338812  This has to be one of the most useful tools ou...  \n",
       "339247  This is very easy to use and it has lots of go...  \n",
       "339249  This is very easy to use and it has lots of go...  \n",
       "339799  Music Games is a fun educational game which th...  \n",
       "\n",
       "[3167 rows x 10 columns]"
      ]
     },
     "execution_count": 19,
     "metadata": {},
     "output_type": "execute_result"
    }
   ],
   "source": [
    "df[df.drop(columns = ['review_id']).duplicated()]"
   ]
  },
  {
   "cell_type": "code",
   "execution_count": 20,
   "metadata": {},
   "outputs": [
    {
     "data": {
      "text/html": [
       "<div>\n",
       "<style scoped>\n",
       "    .dataframe tbody tr th:only-of-type {\n",
       "        vertical-align: middle;\n",
       "    }\n",
       "\n",
       "    .dataframe tbody tr th {\n",
       "        vertical-align: top;\n",
       "    }\n",
       "\n",
       "    .dataframe thead th {\n",
       "        text-align: right;\n",
       "    }\n",
       "</style>\n",
       "<table border=\"1\" class=\"dataframe\">\n",
       "  <thead>\n",
       "    <tr style=\"text-align: right;\">\n",
       "      <th></th>\n",
       "      <th>review_id</th>\n",
       "      <th>product_id</th>\n",
       "      <th>product_title</th>\n",
       "      <th>product_category</th>\n",
       "      <th>star_rating</th>\n",
       "      <th>helpful_votes</th>\n",
       "      <th>total_votes</th>\n",
       "      <th>verified_purchase</th>\n",
       "      <th>review_headline</th>\n",
       "      <th>review_body</th>\n",
       "    </tr>\n",
       "  </thead>\n",
       "  <tbody>\n",
       "    <tr>\n",
       "      <td>268</td>\n",
       "      <td>RCN514M5V71WZ</td>\n",
       "      <td>B00LH6ZWIG</td>\n",
       "      <td>Autodesk Sketchbook Pro 7</td>\n",
       "      <td>Digital_Software</td>\n",
       "      <td>4</td>\n",
       "      <td>0</td>\n",
       "      <td>0</td>\n",
       "      <td>N</td>\n",
       "      <td>Great on the Surface Pro 3</td>\n",
       "      <td>I use this as a drawing program on the desktop...</td>\n",
       "    </tr>\n",
       "    <tr>\n",
       "      <td>384</td>\n",
       "      <td>RMEZL8TXWV4M</td>\n",
       "      <td>B00LH6ZWIG</td>\n",
       "      <td>Autodesk Sketchbook Pro 7</td>\n",
       "      <td>Digital_Software</td>\n",
       "      <td>4</td>\n",
       "      <td>0</td>\n",
       "      <td>0</td>\n",
       "      <td>N</td>\n",
       "      <td>Great on the Surface Pro 3</td>\n",
       "      <td>I use this as a drawing program on the desktop...</td>\n",
       "    </tr>\n",
       "    <tr>\n",
       "      <td>20083</td>\n",
       "      <td>R2XKOPOLVZAHP8</td>\n",
       "      <td>B00LH6ZWIG</td>\n",
       "      <td>Autodesk Sketchbook Pro 7</td>\n",
       "      <td>Digital_Software</td>\n",
       "      <td>4</td>\n",
       "      <td>0</td>\n",
       "      <td>0</td>\n",
       "      <td>Y</td>\n",
       "      <td>Great on the Surface Pro 3</td>\n",
       "      <td>I use this as a drawing program on the desktop...</td>\n",
       "    </tr>\n",
       "  </tbody>\n",
       "</table>\n",
       "</div>"
      ],
      "text/plain": [
       "            review_id  product_id              product_title  \\\n",
       "268     RCN514M5V71WZ  B00LH6ZWIG  Autodesk Sketchbook Pro 7   \n",
       "384      RMEZL8TXWV4M  B00LH6ZWIG  Autodesk Sketchbook Pro 7   \n",
       "20083  R2XKOPOLVZAHP8  B00LH6ZWIG  Autodesk Sketchbook Pro 7   \n",
       "\n",
       "       product_category  star_rating  helpful_votes  total_votes  \\\n",
       "268    Digital_Software            4              0            0   \n",
       "384    Digital_Software            4              0            0   \n",
       "20083  Digital_Software            4              0            0   \n",
       "\n",
       "      verified_purchase             review_headline  \\\n",
       "268                   N  Great on the Surface Pro 3   \n",
       "384                   N  Great on the Surface Pro 3   \n",
       "20083                 Y  Great on the Surface Pro 3   \n",
       "\n",
       "                                             review_body  \n",
       "268    I use this as a drawing program on the desktop...  \n",
       "384    I use this as a drawing program on the desktop...  \n",
       "20083  I use this as a drawing program on the desktop...  "
      ]
     },
     "execution_count": 20,
     "metadata": {},
     "output_type": "execute_result"
    }
   ],
   "source": [
    "df[df['review_headline'] == 'Great on the Surface Pro 3']"
   ]
  },
  {
   "cell_type": "code",
   "execution_count": 21,
   "metadata": {},
   "outputs": [
    {
     "name": "stdout",
     "output_type": "stream",
     "text": [
      "(587809, 10)\n",
      "(584642, 10)\n"
     ]
    }
   ],
   "source": [
    "#So, we eliminate them\n",
    "print(df.shape)\n",
    "df = df.drop_duplicates(subset = ['product_id', 'product_title', 'product_category', 'star_rating', 'helpful_votes', 'total_votes',  'verified_purchase', \n",
    "                                     'review_headline', 'review_body'], keep = 'first')\n",
    "print(df.shape)"
   ]
  },
  {
   "cell_type": "code",
   "execution_count": 22,
   "metadata": {},
   "outputs": [
    {
     "data": {
      "text/html": [
       "<div>\n",
       "<style scoped>\n",
       "    .dataframe tbody tr th:only-of-type {\n",
       "        vertical-align: middle;\n",
       "    }\n",
       "\n",
       "    .dataframe tbody tr th {\n",
       "        vertical-align: top;\n",
       "    }\n",
       "\n",
       "    .dataframe thead th {\n",
       "        text-align: right;\n",
       "    }\n",
       "</style>\n",
       "<table border=\"1\" class=\"dataframe\">\n",
       "  <thead>\n",
       "    <tr style=\"text-align: right;\">\n",
       "      <th></th>\n",
       "      <th>review_id</th>\n",
       "      <th>product_id</th>\n",
       "      <th>product_title</th>\n",
       "      <th>product_category</th>\n",
       "      <th>star_rating</th>\n",
       "      <th>helpful_votes</th>\n",
       "      <th>total_votes</th>\n",
       "      <th>verified_purchase</th>\n",
       "      <th>review_headline</th>\n",
       "      <th>review_body</th>\n",
       "    </tr>\n",
       "  </thead>\n",
       "  <tbody>\n",
       "    <tr>\n",
       "      <td>0</td>\n",
       "      <td>R2EI7QLPK4LF7U</td>\n",
       "      <td>B00U7LCE6A</td>\n",
       "      <td>CCleaner Free [Download]</td>\n",
       "      <td>Digital_Software</td>\n",
       "      <td>4</td>\n",
       "      <td>0</td>\n",
       "      <td>0</td>\n",
       "      <td>Y</td>\n",
       "      <td>Four Stars</td>\n",
       "      <td>So far so good</td>\n",
       "    </tr>\n",
       "    <tr>\n",
       "      <td>1</td>\n",
       "      <td>R1W5OMFK1Q3I3O</td>\n",
       "      <td>B00HRJMOM4</td>\n",
       "      <td>ResumeMaker Professional Deluxe 18</td>\n",
       "      <td>Digital_Software</td>\n",
       "      <td>3</td>\n",
       "      <td>0</td>\n",
       "      <td>0</td>\n",
       "      <td>Y</td>\n",
       "      <td>Three Stars</td>\n",
       "      <td>Needs a little more work.....</td>\n",
       "    </tr>\n",
       "    <tr>\n",
       "      <td>2</td>\n",
       "      <td>RPZWSYWRP92GI</td>\n",
       "      <td>B00P31G9PQ</td>\n",
       "      <td>Amazon Drive Desktop [PC]</td>\n",
       "      <td>Digital_Software</td>\n",
       "      <td>1</td>\n",
       "      <td>1</td>\n",
       "      <td>2</td>\n",
       "      <td>Y</td>\n",
       "      <td>One Star</td>\n",
       "      <td>Please cancel.</td>\n",
       "    </tr>\n",
       "    <tr>\n",
       "      <td>3</td>\n",
       "      <td>R2WQWM04XHD9US</td>\n",
       "      <td>B00FGDEPDY</td>\n",
       "      <td>Norton Internet Security 1 User 3 Licenses</td>\n",
       "      <td>Digital_Software</td>\n",
       "      <td>5</td>\n",
       "      <td>0</td>\n",
       "      <td>0</td>\n",
       "      <td>Y</td>\n",
       "      <td>Works as Expected!</td>\n",
       "      <td>Works as Expected!</td>\n",
       "    </tr>\n",
       "    <tr>\n",
       "      <td>4</td>\n",
       "      <td>R1WSPK2RA2PDEF</td>\n",
       "      <td>B00FZ0FK0U</td>\n",
       "      <td>SecureAnywhere Intermet Security Complete 5 De...</td>\n",
       "      <td>Digital_Software</td>\n",
       "      <td>4</td>\n",
       "      <td>1</td>\n",
       "      <td>2</td>\n",
       "      <td>Y</td>\n",
       "      <td>Great antivirus. Worthless customer support</td>\n",
       "      <td>I've had Webroot for a few years. It expired a...</td>\n",
       "    </tr>\n",
       "  </tbody>\n",
       "</table>\n",
       "</div>"
      ],
      "text/plain": [
       "        review_id  product_id  \\\n",
       "0  R2EI7QLPK4LF7U  B00U7LCE6A   \n",
       "1  R1W5OMFK1Q3I3O  B00HRJMOM4   \n",
       "2   RPZWSYWRP92GI  B00P31G9PQ   \n",
       "3  R2WQWM04XHD9US  B00FGDEPDY   \n",
       "4  R1WSPK2RA2PDEF  B00FZ0FK0U   \n",
       "\n",
       "                                       product_title  product_category  \\\n",
       "0                           CCleaner Free [Download]  Digital_Software   \n",
       "1                 ResumeMaker Professional Deluxe 18  Digital_Software   \n",
       "2                          Amazon Drive Desktop [PC]  Digital_Software   \n",
       "3         Norton Internet Security 1 User 3 Licenses  Digital_Software   \n",
       "4  SecureAnywhere Intermet Security Complete 5 De...  Digital_Software   \n",
       "\n",
       "   star_rating  helpful_votes  total_votes verified_purchase  \\\n",
       "0            4              0            0                 Y   \n",
       "1            3              0            0                 Y   \n",
       "2            1              1            2                 Y   \n",
       "3            5              0            0                 Y   \n",
       "4            4              1            2                 Y   \n",
       "\n",
       "                               review_headline  \\\n",
       "0                                   Four Stars   \n",
       "1                                  Three Stars   \n",
       "2                                     One Star   \n",
       "3                           Works as Expected!   \n",
       "4  Great antivirus. Worthless customer support   \n",
       "\n",
       "                                         review_body  \n",
       "0                                     So far so good  \n",
       "1                      Needs a little more work.....  \n",
       "2                                     Please cancel.  \n",
       "3                                 Works as Expected!  \n",
       "4  I've had Webroot for a few years. It expired a...  "
      ]
     },
     "execution_count": 22,
     "metadata": {},
     "output_type": "execute_result"
    }
   ],
   "source": [
    "df.head()"
   ]
  },
  {
   "cell_type": "code",
   "execution_count": 23,
   "metadata": {},
   "outputs": [],
   "source": [
    "df = df.drop_duplicates(subset = ['product_id', 'product_title', 'product_category', 'review_headline', 'review_body'], keep = 'first')"
   ]
  },
  {
   "cell_type": "code",
   "execution_count": 24,
   "metadata": {},
   "outputs": [
    {
     "data": {
      "text/plain": [
       "(583986, 10)"
      ]
     },
     "execution_count": 24,
     "metadata": {},
     "output_type": "execute_result"
    }
   ],
   "source": [
    "df.shape"
   ]
  },
  {
   "cell_type": "markdown",
   "metadata": {},
   "source": [
    "# **IS BALANCED?**"
   ]
  },
  {
   "cell_type": "code",
   "execution_count": 25,
   "metadata": {},
   "outputs": [
    {
     "data": {
      "text/plain": [
       "product_category\n",
       "Digital_Software       17.373362\n",
       "Digital_Video_Games    24.294418\n",
       "Software               58.332220\n",
       "Name: product_id, dtype: float64"
      ]
     },
     "execution_count": 25,
     "metadata": {},
     "output_type": "execute_result"
    }
   ],
   "source": [
    "100*df.groupby(\"product_category\")['product_id'].count()/df.shape[0]"
   ]
  },
  {
   "cell_type": "code",
   "execution_count": 26,
   "metadata": {},
   "outputs": [],
   "source": [
    "dicti = {\"Digital_Software\": 0, \"Digital_Video_Games\": 1, \"Software\": 2}\n",
    "df['product_category_label'] = df['product_category']\n",
    "df = df.replace({\"product_category\": dicti})"
   ]
  },
  {
   "cell_type": "markdown",
   "metadata": {},
   "source": [
    "## **FILTER VALUES**"
   ]
  },
  {
   "cell_type": "code",
   "execution_count": 27,
   "metadata": {},
   "outputs": [
    {
     "data": {
      "text/html": [
       "<div>\n",
       "<style scoped>\n",
       "    .dataframe tbody tr th:only-of-type {\n",
       "        vertical-align: middle;\n",
       "    }\n",
       "\n",
       "    .dataframe tbody tr th {\n",
       "        vertical-align: top;\n",
       "    }\n",
       "\n",
       "    .dataframe thead th {\n",
       "        text-align: right;\n",
       "    }\n",
       "</style>\n",
       "<table border=\"1\" class=\"dataframe\">\n",
       "  <thead>\n",
       "    <tr style=\"text-align: right;\">\n",
       "      <th></th>\n",
       "      <th>review_id</th>\n",
       "      <th>product_id</th>\n",
       "      <th>product_title</th>\n",
       "      <th>product_category</th>\n",
       "      <th>star_rating</th>\n",
       "      <th>helpful_votes</th>\n",
       "      <th>total_votes</th>\n",
       "      <th>verified_purchase</th>\n",
       "      <th>review_headline</th>\n",
       "      <th>review_body</th>\n",
       "      <th>product_category_label</th>\n",
       "    </tr>\n",
       "  </thead>\n",
       "  <tbody>\n",
       "    <tr>\n",
       "      <td>314231</td>\n",
       "      <td>RING4VEIUW4Y1</td>\n",
       "      <td>0028650506</td>\n",
       "      <td>BLACK MUSIC OF TWO WORLDS CD</td>\n",
       "      <td>2</td>\n",
       "      <td>1</td>\n",
       "      <td>0</td>\n",
       "      <td>0</td>\n",
       "      <td>N</td>\n",
       "      <td>teachers and students BEWARE !!!</td>\n",
       "      <td>I have enjoyed and admired John Storm Robert's...</td>\n",
       "      <td>Software</td>\n",
       "    </tr>\n",
       "    <tr>\n",
       "      <td>318101</td>\n",
       "      <td>R38LNO9CFVPKQS</td>\n",
       "      <td>0030331927</td>\n",
       "      <td>INTERMEDIATE FIN MGMT 7E</td>\n",
       "      <td>2</td>\n",
       "      <td>5</td>\n",
       "      <td>3</td>\n",
       "      <td>15</td>\n",
       "      <td>N</td>\n",
       "      <td>one of the best sources of corporate finance</td>\n",
       "      <td>one of the best sources of corporate finance</td>\n",
       "      <td>Software</td>\n",
       "    </tr>\n",
       "    <tr>\n",
       "      <td>66009</td>\n",
       "      <td>RABIWWF1PLRZ4</td>\n",
       "      <td>0071480935</td>\n",
       "      <td>Sing, Watch, &amp;amp; Learn Spanish (DVD + Guide)...</td>\n",
       "      <td>2</td>\n",
       "      <td>3</td>\n",
       "      <td>0</td>\n",
       "      <td>0</td>\n",
       "      <td>Y</td>\n",
       "      <td>Loses One's Attention</td>\n",
       "      <td>I expected better quality. The video is fuzzy ...</td>\n",
       "      <td>Software</td>\n",
       "    </tr>\n",
       "    <tr>\n",
       "      <td>109034</td>\n",
       "      <td>R131XDRSFWXBGA</td>\n",
       "      <td>0071480935</td>\n",
       "      <td>Sing, Watch, &amp;amp; Learn Spanish (DVD + Guide)...</td>\n",
       "      <td>2</td>\n",
       "      <td>5</td>\n",
       "      <td>0</td>\n",
       "      <td>0</td>\n",
       "      <td>Y</td>\n",
       "      <td>This is one of my favorite kids spanish learni...</td>\n",
       "      <td>This is great immersion type learning for the ...</td>\n",
       "      <td>Software</td>\n",
       "    </tr>\n",
       "    <tr>\n",
       "      <td>203472</td>\n",
       "      <td>RB2EAMTUSLP1V</td>\n",
       "      <td>0071480935</td>\n",
       "      <td>Sing, Watch, &amp;amp; Learn Spanish (DVD + Guide)...</td>\n",
       "      <td>2</td>\n",
       "      <td>5</td>\n",
       "      <td>2</td>\n",
       "      <td>2</td>\n",
       "      <td>Y</td>\n",
       "      <td>Grown ups even like it!</td>\n",
       "      <td>My husband and I are in our 50's, are beginnin...</td>\n",
       "      <td>Software</td>\n",
       "    </tr>\n",
       "  </tbody>\n",
       "</table>\n",
       "</div>"
      ],
      "text/plain": [
       "             review_id  product_id  \\\n",
       "314231   RING4VEIUW4Y1  0028650506   \n",
       "318101  R38LNO9CFVPKQS  0030331927   \n",
       "66009    RABIWWF1PLRZ4  0071480935   \n",
       "109034  R131XDRSFWXBGA  0071480935   \n",
       "203472   RB2EAMTUSLP1V  0071480935   \n",
       "\n",
       "                                            product_title  product_category  \\\n",
       "314231                       BLACK MUSIC OF TWO WORLDS CD                 2   \n",
       "318101                           INTERMEDIATE FIN MGMT 7E                 2   \n",
       "66009   Sing, Watch, &amp; Learn Spanish (DVD + Guide)...                 2   \n",
       "109034  Sing, Watch, &amp; Learn Spanish (DVD + Guide)...                 2   \n",
       "203472  Sing, Watch, &amp; Learn Spanish (DVD + Guide)...                 2   \n",
       "\n",
       "        star_rating  helpful_votes  total_votes verified_purchase  \\\n",
       "314231            1              0            0                 N   \n",
       "318101            5              3           15                 N   \n",
       "66009             3              0            0                 Y   \n",
       "109034            5              0            0                 Y   \n",
       "203472            5              2            2                 Y   \n",
       "\n",
       "                                          review_headline  \\\n",
       "314231                   teachers and students BEWARE !!!   \n",
       "318101       one of the best sources of corporate finance   \n",
       "66009                               Loses One's Attention   \n",
       "109034  This is one of my favorite kids spanish learni...   \n",
       "203472                            Grown ups even like it!   \n",
       "\n",
       "                                              review_body  \\\n",
       "314231  I have enjoyed and admired John Storm Robert's...   \n",
       "318101       one of the best sources of corporate finance   \n",
       "66009   I expected better quality. The video is fuzzy ...   \n",
       "109034  This is great immersion type learning for the ...   \n",
       "203472  My husband and I are in our 50's, are beginnin...   \n",
       "\n",
       "       product_category_label  \n",
       "314231               Software  \n",
       "318101               Software  \n",
       "66009                Software  \n",
       "109034               Software  \n",
       "203472               Software  "
      ]
     },
     "execution_count": 27,
     "metadata": {},
     "output_type": "execute_result"
    }
   ],
   "source": [
    "df = df.sort_values(by=['product_id', 'helpful_votes'], ascending=True)\n",
    "#df = df.drop_duplicates(subset = ['product_title'], keep = 'first') # only products\n",
    "df.head()"
   ]
  },
  {
   "cell_type": "markdown",
   "metadata": {},
   "source": [
    "## **PRODUCT TITLE**\n",
    "\n",
    "### **INCLUDE NUMERICAL INFO ABOUT THE NAME OF THE PRODUCT**"
   ]
  },
  {
   "cell_type": "code",
   "execution_count": 28,
   "metadata": {},
   "outputs": [],
   "source": [
    "# include other features\n",
    "import re\n",
    "# Our list of functions to apply.\n",
    "transform_functions = [\n",
    "    lambda x: len(x),\n",
    "    lambda x: x.count(\" \"),\n",
    "    lambda x: x.count(\".\"),\n",
    "    lambda x: x.count(\"!\"),\n",
    "    lambda x: x.count(\"?\"),\n",
    "    lambda x: len(x) / (x.count(\" \") + 1),\n",
    "    lambda x: x.count(\" \") / (x.count(\".\") + 1),\n",
    "    lambda x: len(re.findall(\"CD|DVD\", x)), # CD \n",
    "    lambda x: len(re.findall(r\"\\d+st|\\d+th|\\d+sd\", x)), # th--> 4th, 5th or 1st or 2sd\n",
    "    lambda x: len(re.findall(\"[A-Z]\", x)), # number of uppercase letters\n",
    "    lambda x: len(re.findall(\"[0-9]\", x)), #numbers\n",
    "    lambda x: len(re.findall(\"\\d{4}\", x)),\n",
    "    lambda x: len(re.findall(\"\\d$\", x)), #end with number\n",
    "    lambda x: len(re.findall(\"^\\d\", x)), #start with number\n",
    "    lambda x: len(re.findall(\"[\\w]+-[\\w]+\",x)), #words separated with -\n",
    "    lambda x: len(re.findall(\"OLD VERSION|Old Version|old version\",x)), #old version\n",
    "]\n",
    "\n",
    "transform_functions_len = [\n",
    "    lambda x: len(x)\n",
    "]\n",
    "\n",
    "# Apply each function and put the results into a list.\n",
    "df_num = df[['review_id', 'product_id', 'product_title', 'star_rating', 'helpful_votes', 'total_votes', 'verified_purchase']]\n",
    "df_num_2 = df[['review_id', 'product_id', 'product_title']]\n",
    "df = df.drop(columns = ['star_rating', 'helpful_votes', 'total_votes', 'verified_purchase'])\n"
   ]
  },
  {
   "cell_type": "code",
   "execution_count": 29,
   "metadata": {},
   "outputs": [],
   "source": [
    "for func in transform_functions:\n",
    "     df_num_2 = pd.concat([df_num_2, df['product_title'].apply(func)], axis=1)\n",
    "df_num_2 = pd.concat([df_num_2, df['review_body'].apply(transform_functions_len)], axis=1)\n",
    "df_num_2 = pd.concat([df_num_2, df['review_headline'].apply(transform_functions_len)], axis=1)"
   ]
  },
  {
   "cell_type": "code",
   "execution_count": 30,
   "metadata": {},
   "outputs": [
    {
     "data": {
      "text/html": [
       "<div>\n",
       "<style scoped>\n",
       "    .dataframe tbody tr th:only-of-type {\n",
       "        vertical-align: middle;\n",
       "    }\n",
       "\n",
       "    .dataframe tbody tr th {\n",
       "        vertical-align: top;\n",
       "    }\n",
       "\n",
       "    .dataframe thead th {\n",
       "        text-align: right;\n",
       "    }\n",
       "</style>\n",
       "<table border=\"1\" class=\"dataframe\">\n",
       "  <thead>\n",
       "    <tr style=\"text-align: right;\">\n",
       "      <th></th>\n",
       "      <th>review_id</th>\n",
       "      <th>product_id</th>\n",
       "      <th>product_title</th>\n",
       "      <th>product_title</th>\n",
       "      <th>product_title</th>\n",
       "      <th>product_title</th>\n",
       "      <th>product_title</th>\n",
       "      <th>product_title</th>\n",
       "      <th>product_title</th>\n",
       "      <th>product_title</th>\n",
       "      <th>...</th>\n",
       "      <th>product_title</th>\n",
       "      <th>product_title</th>\n",
       "      <th>product_title</th>\n",
       "      <th>product_title</th>\n",
       "      <th>product_title</th>\n",
       "      <th>product_title</th>\n",
       "      <th>product_title</th>\n",
       "      <th>product_title</th>\n",
       "      <th>&lt;lambda&gt;</th>\n",
       "      <th>&lt;lambda&gt;</th>\n",
       "    </tr>\n",
       "  </thead>\n",
       "  <tbody>\n",
       "    <tr>\n",
       "      <td>314231</td>\n",
       "      <td>RING4VEIUW4Y1</td>\n",
       "      <td>0028650506</td>\n",
       "      <td>BLACK MUSIC OF TWO WORLDS CD</td>\n",
       "      <td>28</td>\n",
       "      <td>5</td>\n",
       "      <td>0</td>\n",
       "      <td>0</td>\n",
       "      <td>0</td>\n",
       "      <td>4.666667</td>\n",
       "      <td>5.0</td>\n",
       "      <td>...</td>\n",
       "      <td>0</td>\n",
       "      <td>23</td>\n",
       "      <td>0</td>\n",
       "      <td>0</td>\n",
       "      <td>0</td>\n",
       "      <td>0</td>\n",
       "      <td>0</td>\n",
       "      <td>0</td>\n",
       "      <td>1066</td>\n",
       "      <td>32</td>\n",
       "    </tr>\n",
       "    <tr>\n",
       "      <td>318101</td>\n",
       "      <td>R38LNO9CFVPKQS</td>\n",
       "      <td>0030331927</td>\n",
       "      <td>INTERMEDIATE FIN MGMT 7E</td>\n",
       "      <td>24</td>\n",
       "      <td>3</td>\n",
       "      <td>0</td>\n",
       "      <td>0</td>\n",
       "      <td>0</td>\n",
       "      <td>6.000000</td>\n",
       "      <td>3.0</td>\n",
       "      <td>...</td>\n",
       "      <td>0</td>\n",
       "      <td>20</td>\n",
       "      <td>1</td>\n",
       "      <td>0</td>\n",
       "      <td>0</td>\n",
       "      <td>0</td>\n",
       "      <td>0</td>\n",
       "      <td>0</td>\n",
       "      <td>44</td>\n",
       "      <td>44</td>\n",
       "    </tr>\n",
       "    <tr>\n",
       "      <td>66009</td>\n",
       "      <td>RABIWWF1PLRZ4</td>\n",
       "      <td>0071480935</td>\n",
       "      <td>Sing, Watch, &amp;amp; Learn Spanish (DVD + Guide)...</td>\n",
       "      <td>102</td>\n",
       "      <td>17</td>\n",
       "      <td>0</td>\n",
       "      <td>0</td>\n",
       "      <td>0</td>\n",
       "      <td>5.666667</td>\n",
       "      <td>17.0</td>\n",
       "      <td>...</td>\n",
       "      <td>0</td>\n",
       "      <td>15</td>\n",
       "      <td>2</td>\n",
       "      <td>0</td>\n",
       "      <td>0</td>\n",
       "      <td>0</td>\n",
       "      <td>0</td>\n",
       "      <td>0</td>\n",
       "      <td>275</td>\n",
       "      <td>21</td>\n",
       "    </tr>\n",
       "    <tr>\n",
       "      <td>109034</td>\n",
       "      <td>R131XDRSFWXBGA</td>\n",
       "      <td>0071480935</td>\n",
       "      <td>Sing, Watch, &amp;amp; Learn Spanish (DVD + Guide)...</td>\n",
       "      <td>102</td>\n",
       "      <td>17</td>\n",
       "      <td>0</td>\n",
       "      <td>0</td>\n",
       "      <td>0</td>\n",
       "      <td>5.666667</td>\n",
       "      <td>17.0</td>\n",
       "      <td>...</td>\n",
       "      <td>0</td>\n",
       "      <td>15</td>\n",
       "      <td>2</td>\n",
       "      <td>0</td>\n",
       "      <td>0</td>\n",
       "      <td>0</td>\n",
       "      <td>0</td>\n",
       "      <td>0</td>\n",
       "      <td>232</td>\n",
       "      <td>55</td>\n",
       "    </tr>\n",
       "    <tr>\n",
       "      <td>203472</td>\n",
       "      <td>RB2EAMTUSLP1V</td>\n",
       "      <td>0071480935</td>\n",
       "      <td>Sing, Watch, &amp;amp; Learn Spanish (DVD + Guide)...</td>\n",
       "      <td>102</td>\n",
       "      <td>17</td>\n",
       "      <td>0</td>\n",
       "      <td>0</td>\n",
       "      <td>0</td>\n",
       "      <td>5.666667</td>\n",
       "      <td>17.0</td>\n",
       "      <td>...</td>\n",
       "      <td>0</td>\n",
       "      <td>15</td>\n",
       "      <td>2</td>\n",
       "      <td>0</td>\n",
       "      <td>0</td>\n",
       "      <td>0</td>\n",
       "      <td>0</td>\n",
       "      <td>0</td>\n",
       "      <td>415</td>\n",
       "      <td>23</td>\n",
       "    </tr>\n",
       "  </tbody>\n",
       "</table>\n",
       "<p>5 rows × 21 columns</p>\n",
       "</div>"
      ],
      "text/plain": [
       "             review_id  product_id  \\\n",
       "314231   RING4VEIUW4Y1  0028650506   \n",
       "318101  R38LNO9CFVPKQS  0030331927   \n",
       "66009    RABIWWF1PLRZ4  0071480935   \n",
       "109034  R131XDRSFWXBGA  0071480935   \n",
       "203472   RB2EAMTUSLP1V  0071480935   \n",
       "\n",
       "                                            product_title  product_title  \\\n",
       "314231                       BLACK MUSIC OF TWO WORLDS CD             28   \n",
       "318101                           INTERMEDIATE FIN MGMT 7E             24   \n",
       "66009   Sing, Watch, &amp; Learn Spanish (DVD + Guide)...            102   \n",
       "109034  Sing, Watch, &amp; Learn Spanish (DVD + Guide)...            102   \n",
       "203472  Sing, Watch, &amp; Learn Spanish (DVD + Guide)...            102   \n",
       "\n",
       "        product_title  product_title  product_title  product_title  \\\n",
       "314231              5              0              0              0   \n",
       "318101              3              0              0              0   \n",
       "66009              17              0              0              0   \n",
       "109034             17              0              0              0   \n",
       "203472             17              0              0              0   \n",
       "\n",
       "        product_title  product_title  ...  product_title  product_title  \\\n",
       "314231       4.666667            5.0  ...              0             23   \n",
       "318101       6.000000            3.0  ...              0             20   \n",
       "66009        5.666667           17.0  ...              0             15   \n",
       "109034       5.666667           17.0  ...              0             15   \n",
       "203472       5.666667           17.0  ...              0             15   \n",
       "\n",
       "        product_title  product_title  product_title  product_title  \\\n",
       "314231              0              0              0              0   \n",
       "318101              1              0              0              0   \n",
       "66009               2              0              0              0   \n",
       "109034              2              0              0              0   \n",
       "203472              2              0              0              0   \n",
       "\n",
       "        product_title  product_title  <lambda>  <lambda>  \n",
       "314231              0              0      1066        32  \n",
       "318101              0              0        44        44  \n",
       "66009               0              0       275        21  \n",
       "109034              0              0       232        55  \n",
       "203472              0              0       415        23  \n",
       "\n",
       "[5 rows x 21 columns]"
      ]
     },
     "execution_count": 30,
     "metadata": {},
     "output_type": "execute_result"
    }
   ],
   "source": [
    "df_num_2.head()"
   ]
  },
  {
   "cell_type": "code",
   "execution_count": 31,
   "metadata": {},
   "outputs": [],
   "source": [
    "df_num_2.columns = ['review_id', 'product_id', 'product_title', 'title_len', 'title_words', 'title_points',\n",
    "                  'title_exc', 'title_int', 'ratio_spaces_point', \n",
    "                  'ratio_len_points', 'title_cd','title_th', 'title_upper_letters', 'title_numbers', 'title_years', 'end_number', 'starts_number', 'word_sep', \n",
    "                  'title_old_version', 'len_review_body', 'len_review_headline']"
   ]
  },
  {
   "cell_type": "markdown",
   "metadata": {},
   "source": [
    "## **Combine tables**"
   ]
  },
  {
   "cell_type": "code",
   "execution_count": 32,
   "metadata": {},
   "outputs": [],
   "source": [
    "from functools import reduce\n",
    "dfs = [df, df_num, df_num_2]\n",
    "df = reduce(lambda left,right: pd.merge(left,right,on=['review_id', 'product_id', 'product_title'], how = 'inner'), dfs)"
   ]
  },
  {
   "cell_type": "markdown",
   "metadata": {},
   "source": [
    "# **Some descriptive values**\n",
    "\n",
    "* How do ratings vary by product category?\n",
    "\n",
    "It appears that Digital Software is the most disappointing category for reviewers, \n"
   ]
  },
  {
   "cell_type": "code",
   "execution_count": 33,
   "metadata": {},
   "outputs": [
    {
     "data": {
      "text/plain": [
       "product_category\n",
       "0    3.534832\n",
       "1    3.830035\n",
       "2    3.565401\n",
       "Name: star_rating, dtype: float64"
      ]
     },
     "execution_count": 33,
     "metadata": {},
     "output_type": "execute_result"
    }
   ],
   "source": [
    "df.groupby(['product_category'])['star_rating'].mean()"
   ]
  },
  {
   "cell_type": "code",
   "execution_count": 34,
   "metadata": {},
   "outputs": [
    {
     "data": {
      "text/plain": [
       "product_category\n",
       "0     249703\n",
       "1     215137\n",
       "2    1489793\n",
       "Name: helpful_votes, dtype: int64"
      ]
     },
     "execution_count": 34,
     "metadata": {},
     "output_type": "execute_result"
    }
   ],
   "source": [
    "df.groupby(['product_category'])['helpful_votes'].sum()"
   ]
  },
  {
   "cell_type": "code",
   "execution_count": 35,
   "metadata": {},
   "outputs": [
    {
     "data": {
      "text/plain": [
       "Index(['review_id', 'product_id', 'product_title', 'product_category',\n",
       "       'review_headline', 'review_body', 'product_category_label',\n",
       "       'star_rating', 'helpful_votes', 'total_votes', 'verified_purchase',\n",
       "       'title_len', 'title_words', 'title_points', 'title_exc', 'title_int',\n",
       "       'ratio_spaces_point', 'ratio_len_points', 'title_cd', 'title_th',\n",
       "       'title_upper_letters', 'title_numbers', 'title_years', 'end_number',\n",
       "       'starts_number', 'word_sep', 'title_old_version', 'len_review_body',\n",
       "       'len_review_headline'],\n",
       "      dtype='object')"
      ]
     },
     "execution_count": 35,
     "metadata": {},
     "output_type": "execute_result"
    }
   ],
   "source": [
    "df.columns"
   ]
  },
  {
   "cell_type": "code",
   "execution_count": 36,
   "metadata": {},
   "outputs": [
    {
     "data": {
      "text/plain": [
       "product_category\n",
       "0     249703\n",
       "1     215137\n",
       "2    1489793\n",
       "Name: helpful_votes, dtype: int64"
      ]
     },
     "execution_count": 36,
     "metadata": {},
     "output_type": "execute_result"
    }
   ],
   "source": [
    "df.groupby(['product_category'])['helpful_votes'].sum()"
   ]
  },
  {
   "cell_type": "markdown",
   "metadata": {},
   "source": [
    "As you can observe, more than 75% of reviews have not been found helpful by people, and among those who were found helpful, the review text has an average length of more than 150 words. While most of the reviews were given 4 or 5 stars, there is no clear pattern between the rating and the length of the reviews. \n",
    "\n",
    "So, longer reviews are more helpful, but it does not mean people liked the product more? Well, we need a better way to untangle this mess."
   ]
  },
  {
   "cell_type": "code",
   "execution_count": 37,
   "metadata": {},
   "outputs": [
    {
     "data": {
      "text/html": [
       "<div>\n",
       "<style scoped>\n",
       "    .dataframe tbody tr th:only-of-type {\n",
       "        vertical-align: middle;\n",
       "    }\n",
       "\n",
       "    .dataframe tbody tr th {\n",
       "        vertical-align: top;\n",
       "    }\n",
       "\n",
       "    .dataframe thead th {\n",
       "        text-align: right;\n",
       "    }\n",
       "</style>\n",
       "<table border=\"1\" class=\"dataframe\">\n",
       "  <thead>\n",
       "    <tr style=\"text-align: right;\">\n",
       "      <th></th>\n",
       "      <th>star_rating</th>\n",
       "      <th>title_len</th>\n",
       "    </tr>\n",
       "  </thead>\n",
       "  <tbody>\n",
       "    <tr>\n",
       "      <td>0</td>\n",
       "      <td>1</td>\n",
       "      <td>37.490442</td>\n",
       "    </tr>\n",
       "    <tr>\n",
       "      <td>1</td>\n",
       "      <td>2</td>\n",
       "      <td>37.563492</td>\n",
       "    </tr>\n",
       "    <tr>\n",
       "      <td>2</td>\n",
       "      <td>3</td>\n",
       "      <td>37.700297</td>\n",
       "    </tr>\n",
       "    <tr>\n",
       "      <td>3</td>\n",
       "      <td>4</td>\n",
       "      <td>38.275103</td>\n",
       "    </tr>\n",
       "    <tr>\n",
       "      <td>4</td>\n",
       "      <td>5</td>\n",
       "      <td>38.572880</td>\n",
       "    </tr>\n",
       "  </tbody>\n",
       "</table>\n",
       "</div>"
      ],
      "text/plain": [
       "   star_rating  title_len\n",
       "0            1  37.490442\n",
       "1            2  37.563492\n",
       "2            3  37.700297\n",
       "3            4  38.275103\n",
       "4            5  38.572880"
      ]
     },
     "execution_count": 37,
     "metadata": {},
     "output_type": "execute_result"
    }
   ],
   "source": [
    "df.groupby(['star_rating'])['title_len'].mean().reset_index().head()"
   ]
  },
  {
   "cell_type": "code",
   "execution_count": 38,
   "metadata": {},
   "outputs": [
    {
     "data": {
      "image/png": "[encoded data removed]",
      "text/plain": [
       "<Figure size 432x288 with 1 Axes>"
      ]
     },
     "metadata": {},
     "output_type": "display_data"
    }
   ],
   "source": [
    "import seaborn as sns\n",
    "sns.set(style=\"whitegrid\")\n",
    "ax = sns.barplot(x=\"star_rating\", y=\"title_len\", data=df)"
   ]
  },
  {
   "cell_type": "code",
   "execution_count": 39,
   "metadata": {},
   "outputs": [
    {
     "data": {
      "image/png": "[encoded data removed]",
      "text/plain": [
       "<Figure size 432x288 with 1 Axes>"
      ]
     },
     "metadata": {},
     "output_type": "display_data"
    }
   ],
   "source": [
    "import seaborn as sns\n",
    "sns.set(style=\"whitegrid\")\n",
    "ax = sns.barplot(x=\"star_rating\", y=\"len_review_headline\", data=df)"
   ]
  },
  {
   "cell_type": "code",
   "execution_count": 40,
   "metadata": {},
   "outputs": [
    {
     "data": {
      "image/png": "[encoded data removed]",
      "text/plain": [
       "<Figure size 432x288 with 1 Axes>"
      ]
     },
     "metadata": {},
     "output_type": "display_data"
    }
   ],
   "source": [
    "import seaborn as sns\n",
    "sns.set(style=\"whitegrid\")\n",
    "ax = sns.barplot(x=\"star_rating\", y=\"len_review_body\", data=df)"
   ]
  },
  {
   "cell_type": "code",
   "execution_count": 41,
   "metadata": {},
   "outputs": [
    {
     "data": {
      "text/html": [
       "<div>\n",
       "<style scoped>\n",
       "    .dataframe tbody tr th:only-of-type {\n",
       "        vertical-align: middle;\n",
       "    }\n",
       "\n",
       "    .dataframe tbody tr th {\n",
       "        vertical-align: top;\n",
       "    }\n",
       "\n",
       "    .dataframe thead th {\n",
       "        text-align: right;\n",
       "    }\n",
       "</style>\n",
       "<table border=\"1\" class=\"dataframe\">\n",
       "  <thead>\n",
       "    <tr style=\"text-align: right;\">\n",
       "      <th></th>\n",
       "      <th>star_rating</th>\n",
       "      <th>helpful_votes</th>\n",
       "    </tr>\n",
       "  </thead>\n",
       "  <tbody>\n",
       "    <tr>\n",
       "      <td>0</td>\n",
       "      <td>1</td>\n",
       "      <td>6.113543</td>\n",
       "    </tr>\n",
       "    <tr>\n",
       "      <td>1</td>\n",
       "      <td>2</td>\n",
       "      <td>4.645945</td>\n",
       "    </tr>\n",
       "    <tr>\n",
       "      <td>2</td>\n",
       "      <td>3</td>\n",
       "      <td>3.466172</td>\n",
       "    </tr>\n",
       "    <tr>\n",
       "      <td>3</td>\n",
       "      <td>4</td>\n",
       "      <td>2.700161</td>\n",
       "    </tr>\n",
       "    <tr>\n",
       "      <td>4</td>\n",
       "      <td>5</td>\n",
       "      <td>2.140457</td>\n",
       "    </tr>\n",
       "  </tbody>\n",
       "</table>\n",
       "</div>"
      ],
      "text/plain": [
       "   star_rating  helpful_votes\n",
       "0            1       6.113543\n",
       "1            2       4.645945\n",
       "2            3       3.466172\n",
       "3            4       2.700161\n",
       "4            5       2.140457"
      ]
     },
     "execution_count": 41,
     "metadata": {},
     "output_type": "execute_result"
    }
   ],
   "source": [
    "df.groupby(['star_rating'])['helpful_votes'].mean().reset_index().head()"
   ]
  },
  {
   "cell_type": "code",
   "execution_count": 42,
   "metadata": {},
   "outputs": [
    {
     "data": {
      "image/png": "[encoded data removed]",
      "text/plain": [
       "<Figure size 432x288 with 1 Axes>"
      ]
     },
     "metadata": {},
     "output_type": "display_data"
    }
   ],
   "source": [
    "import seaborn as sns\n",
    "sns.set(style=\"whitegrid\")\n",
    "ax = sns.barplot(x=\"star_rating\", y=\"helpful_votes\", data=df)"
   ]
  },
  {
   "cell_type": "markdown",
   "metadata": {},
   "source": [
    "## **Text data processing**\n",
    "\n",
    "We cleaned the review text to remove all ‘noise’ (in this case, that translates to punctuation, junk values and upper case letters). "
   ]
  },
  {
   "cell_type": "code",
   "execution_count": 43,
   "metadata": {},
   "outputs": [],
   "source": [
    "#clean characters\n",
    "df = standardize_text(df, \"product_title\")"
   ]
  },
  {
   "cell_type": "markdown",
   "metadata": {},
   "source": [
    "## **Eliminate stop words**"
   ]
  },
  {
   "cell_type": "code",
   "execution_count": 44,
   "metadata": {},
   "outputs": [
    {
     "name": "stderr",
     "output_type": "stream",
     "text": [
      "[nltk_data] Downloading package stopwords to\n",
      "[nltk_data]     /home/erikapat/nltk_data...\n",
      "[nltk_data]   Package stopwords is already up-to-date!\n",
      "[nltk_data] Downloading package wordnet to /home/erikapat/nltk_data...\n",
      "[nltk_data]   Package wordnet is already up-to-date!\n"
     ]
    },
    {
     "data": {
      "text/plain": [
       "True"
      ]
     },
     "execution_count": 44,
     "metadata": {},
     "output_type": "execute_result"
    }
   ],
   "source": [
    "#download stopwords\n",
    "import nltk\n",
    "nltk.download('stopwords')\n",
    "nltk.download('wordnet')"
   ]
  },
  {
   "cell_type": "code",
   "execution_count": 45,
   "metadata": {},
   "outputs": [],
   "source": [
    "# Import stopwords with nltk.\n",
    "from nltk.corpus import stopwords\n",
    "stop = stopwords.words('english')\n",
    "# Exclude stopwords with Python's list comprehension and pandas.DataFrame.apply.\n",
    "df['product_title'] = df['product_title'].apply(lambda x: ' '.join([word for word in x.split() if word not in (stop)]))\n",
    "#df['review_headline'] = df['review_headline'].apply(lambda x: ' '.join([word for word in x.split() if word not in (stop)]))\n",
    "#df['review_body'] = df['review_body'].apply(lambda x: ' '.join([word for word in x.split() if word not in (stop)]))\n",
    "#more cleaning\n",
    "df['product_title'] = df['product_title'].map(lambda x : clean_text(x))\n",
    "#df['review_headline'] = df['review_headline'].map(lambda x : clean_text(x))\n",
    "#df['review_body'] = df['review_body'].map(lambda x : clean_text(x))\n",
    "df['product_title'] = df['product_title'].map(lambda x : removeAscendingChar(x)) \n",
    "#df['review_headline'] = df['review_headline'].map(lambda x : removeAscendingChar(x)) \n",
    "#df['review_body'] = df['review_body'].map(lambda x : removeAscendingChar(x)) "
   ]
  },
  {
   "cell_type": "markdown",
   "metadata": {},
   "source": [
    "## **Lemmatization**\n",
    "\n",
    "Reduce the inflectional forms of each word into a common base or root. For example, it’s very likely we will want to see results containing the form “skirt” if we have typed “skirts” in a search bar.\n",
    "\n",
    "![alt text](fig/lemma.png)"
   ]
  },
  {
   "cell_type": "code",
   "execution_count": 46,
   "metadata": {},
   "outputs": [],
   "source": [
    "#lemmatization\n",
    "df['product_title'] = df['product_title'].map(lambda x : lemitizeWords(x))\n",
    "df['review_headline'] = df['review_headline'].map(lambda x : lemitizeWords(x))\n",
    "df['review_body'] = df['review_body'].map(lambda x : lemitizeWords(x))"
   ]
  },
  {
   "cell_type": "code",
   "execution_count": 47,
   "metadata": {},
   "outputs": [],
   "source": [
    "#eliminate single letters\n",
    "df['product_title'] = df['product_title'].str.replace(r'\\b\\w\\b','').str.replace(r'\\s+', ' ')\n",
    "df['review_headline'] = df['review_headline'].str.replace(r'\\b\\w\\b','').str.replace(r'\\s+', ' ')\n",
    "df['review_body'] = df['review_body'].str.replace(r'\\b\\w\\b','').str.replace(r'\\s+', ' ')"
   ]
  },
  {
   "cell_type": "markdown",
   "metadata": {},
   "source": [
    "## **Spelling correction**"
   ]
  },
  {
   "cell_type": "code",
   "execution_count": 48,
   "metadata": {},
   "outputs": [],
   "source": [
    "from textblob import TextBlob\n",
    "#df['product_title'] = df['product_title'].apply(lambda tweet: TextBlob(tweet).correct())\n",
    "#df['review_headline'] = df['review_headline'].apply(lambda tweet: TextBlob(tweet).correct())\n",
    "#df['review_body'] = df['review_body'].apply(lambda tweet: TextBlob(tweet).correct())"
   ]
  },
  {
   "cell_type": "code",
   "execution_count": 49,
   "metadata": {},
   "outputs": [
    {
     "data": {
      "text/html": [
       "<div>\n",
       "<style scoped>\n",
       "    .dataframe tbody tr th:only-of-type {\n",
       "        vertical-align: middle;\n",
       "    }\n",
       "\n",
       "    .dataframe tbody tr th {\n",
       "        vertical-align: top;\n",
       "    }\n",
       "\n",
       "    .dataframe thead th {\n",
       "        text-align: right;\n",
       "    }\n",
       "</style>\n",
       "<table border=\"1\" class=\"dataframe\">\n",
       "  <thead>\n",
       "    <tr style=\"text-align: right;\">\n",
       "      <th></th>\n",
       "      <th>review_id</th>\n",
       "      <th>product_id</th>\n",
       "      <th>product_title</th>\n",
       "      <th>product_category</th>\n",
       "      <th>review_headline</th>\n",
       "      <th>review_body</th>\n",
       "      <th>product_category_label</th>\n",
       "      <th>star_rating</th>\n",
       "      <th>helpful_votes</th>\n",
       "      <th>total_votes</th>\n",
       "      <th>...</th>\n",
       "      <th>title_th</th>\n",
       "      <th>title_upper_letters</th>\n",
       "      <th>title_numbers</th>\n",
       "      <th>title_years</th>\n",
       "      <th>end_number</th>\n",
       "      <th>starts_number</th>\n",
       "      <th>word_sep</th>\n",
       "      <th>title_old_version</th>\n",
       "      <th>len_review_body</th>\n",
       "      <th>len_review_headline</th>\n",
       "    </tr>\n",
       "  </thead>\n",
       "  <tbody>\n",
       "    <tr>\n",
       "      <td>0</td>\n",
       "      <td>RING4VEIUW4Y1</td>\n",
       "      <td>0028650506</td>\n",
       "      <td>black music worlds cd</td>\n",
       "      <td>2</td>\n",
       "      <td>teachers and students BEWARE !!!</td>\n",
       "      <td>have enjoyed and admired John Storm Robert' b...</td>\n",
       "      <td>Software</td>\n",
       "      <td>1</td>\n",
       "      <td>0</td>\n",
       "      <td>0</td>\n",
       "      <td>...</td>\n",
       "      <td>0</td>\n",
       "      <td>23</td>\n",
       "      <td>0</td>\n",
       "      <td>0</td>\n",
       "      <td>0</td>\n",
       "      <td>0</td>\n",
       "      <td>0</td>\n",
       "      <td>0</td>\n",
       "      <td>1066</td>\n",
       "      <td>32</td>\n",
       "    </tr>\n",
       "    <tr>\n",
       "      <td>1</td>\n",
       "      <td>R38LNO9CFVPKQS</td>\n",
       "      <td>0030331927</td>\n",
       "      <td>intermediate fin mgmt</td>\n",
       "      <td>2</td>\n",
       "      <td>one of the best sources of corporate finance</td>\n",
       "      <td>one of the best sources of corporate finance</td>\n",
       "      <td>Software</td>\n",
       "      <td>5</td>\n",
       "      <td>3</td>\n",
       "      <td>15</td>\n",
       "      <td>...</td>\n",
       "      <td>0</td>\n",
       "      <td>20</td>\n",
       "      <td>1</td>\n",
       "      <td>0</td>\n",
       "      <td>0</td>\n",
       "      <td>0</td>\n",
       "      <td>0</td>\n",
       "      <td>0</td>\n",
       "      <td>44</td>\n",
       "      <td>44</td>\n",
       "    </tr>\n",
       "    <tr>\n",
       "      <td>2</td>\n",
       "      <td>RABIWWF1PLRZ4</td>\n",
       "      <td>0071480935</td>\n",
       "      <td>sing watc amp learn spanis fun music videos in...</td>\n",
       "      <td>2</td>\n",
       "      <td>Loses One' Attention</td>\n",
       "      <td>expected better quality. The video is fuzzy a...</td>\n",
       "      <td>Software</td>\n",
       "      <td>3</td>\n",
       "      <td>0</td>\n",
       "      <td>0</td>\n",
       "      <td>...</td>\n",
       "      <td>0</td>\n",
       "      <td>15</td>\n",
       "      <td>2</td>\n",
       "      <td>0</td>\n",
       "      <td>0</td>\n",
       "      <td>0</td>\n",
       "      <td>0</td>\n",
       "      <td>0</td>\n",
       "      <td>275</td>\n",
       "      <td>21</td>\n",
       "    </tr>\n",
       "    <tr>\n",
       "      <td>3</td>\n",
       "      <td>R131XDRSFWXBGA</td>\n",
       "      <td>0071480935</td>\n",
       "      <td>sing watc amp learn spanis fun music videos in...</td>\n",
       "      <td>2</td>\n",
       "      <td>This is one of my favorite kids spanish learni...</td>\n",
       "      <td>This is great immersion type learning for the ...</td>\n",
       "      <td>Software</td>\n",
       "      <td>5</td>\n",
       "      <td>0</td>\n",
       "      <td>0</td>\n",
       "      <td>...</td>\n",
       "      <td>0</td>\n",
       "      <td>15</td>\n",
       "      <td>2</td>\n",
       "      <td>0</td>\n",
       "      <td>0</td>\n",
       "      <td>0</td>\n",
       "      <td>0</td>\n",
       "      <td>0</td>\n",
       "      <td>232</td>\n",
       "      <td>55</td>\n",
       "    </tr>\n",
       "    <tr>\n",
       "      <td>4</td>\n",
       "      <td>RB2EAMTUSLP1V</td>\n",
       "      <td>0071480935</td>\n",
       "      <td>sing watc amp learn spanis fun music videos in...</td>\n",
       "      <td>2</td>\n",
       "      <td>Grown ups even like it!</td>\n",
       "      <td>My husband and are in our 50', are beginning S...</td>\n",
       "      <td>Software</td>\n",
       "      <td>5</td>\n",
       "      <td>2</td>\n",
       "      <td>2</td>\n",
       "      <td>...</td>\n",
       "      <td>0</td>\n",
       "      <td>15</td>\n",
       "      <td>2</td>\n",
       "      <td>0</td>\n",
       "      <td>0</td>\n",
       "      <td>0</td>\n",
       "      <td>0</td>\n",
       "      <td>0</td>\n",
       "      <td>415</td>\n",
       "      <td>23</td>\n",
       "    </tr>\n",
       "  </tbody>\n",
       "</table>\n",
       "<p>5 rows × 29 columns</p>\n",
       "</div>"
      ],
      "text/plain": [
       "        review_id  product_id  \\\n",
       "0   RING4VEIUW4Y1  0028650506   \n",
       "1  R38LNO9CFVPKQS  0030331927   \n",
       "2   RABIWWF1PLRZ4  0071480935   \n",
       "3  R131XDRSFWXBGA  0071480935   \n",
       "4   RB2EAMTUSLP1V  0071480935   \n",
       "\n",
       "                                       product_title  product_category  \\\n",
       "0                              black music worlds cd                 2   \n",
       "1                             intermediate fin mgmt                  2   \n",
       "2  sing watc amp learn spanis fun music videos in...                 2   \n",
       "3  sing watc amp learn spanis fun music videos in...                 2   \n",
       "4  sing watc amp learn spanis fun music videos in...                 2   \n",
       "\n",
       "                                     review_headline  \\\n",
       "0                   teachers and students BEWARE !!!   \n",
       "1       one of the best sources of corporate finance   \n",
       "2                               Loses One' Attention   \n",
       "3  This is one of my favorite kids spanish learni...   \n",
       "4                            Grown ups even like it!   \n",
       "\n",
       "                                         review_body product_category_label  \\\n",
       "0   have enjoyed and admired John Storm Robert' b...               Software   \n",
       "1       one of the best sources of corporate finance               Software   \n",
       "2   expected better quality. The video is fuzzy a...               Software   \n",
       "3  This is great immersion type learning for the ...               Software   \n",
       "4  My husband and are in our 50', are beginning S...               Software   \n",
       "\n",
       "   star_rating  helpful_votes  total_votes  ... title_th  title_upper_letters  \\\n",
       "0            1              0            0  ...        0                   23   \n",
       "1            5              3           15  ...        0                   20   \n",
       "2            3              0            0  ...        0                   15   \n",
       "3            5              0            0  ...        0                   15   \n",
       "4            5              2            2  ...        0                   15   \n",
       "\n",
       "   title_numbers  title_years  end_number  starts_number  word_sep  \\\n",
       "0              0            0           0              0         0   \n",
       "1              1            0           0              0         0   \n",
       "2              2            0           0              0         0   \n",
       "3              2            0           0              0         0   \n",
       "4              2            0           0              0         0   \n",
       "\n",
       "   title_old_version  len_review_body  len_review_headline  \n",
       "0                  0             1066                   32  \n",
       "1                  0               44                   44  \n",
       "2                  0              275                   21  \n",
       "3                  0              232                   55  \n",
       "4                  0              415                   23  \n",
       "\n",
       "[5 rows x 29 columns]"
      ]
     },
     "execution_count": 49,
     "metadata": {},
     "output_type": "execute_result"
    }
   ],
   "source": [
    "df.head()"
   ]
  },
  {
   "cell_type": "markdown",
   "metadata": {},
   "source": [
    "## **The objective/subjective part of the sentence: Textblob package**\n",
    "\n",
    "\n",
    "* To install:\n",
    "\n",
    "pip install -U textblob\n",
    "\n",
    "python -m textblob.download_corpora\n",
    "\n",
    "With the Textblob package we can eliminate the objective/subjective part of a setence. Why do this? Think about it. Would you rather read ‘This iPhone has 64 gb of storage’ or ‘This iPhone has high storage for low price’? Depending of the utility of the project you would need the objective or Subjectivity part. Textblob does a good job of telling you how subjective a sentence is, using which you can eliminate those that fall below a certain threshold \n",
    "\n",
    "In our case we want to eliminate subjectivity an keep those sentences that give us more objective information about the product. We picked a threshold below 0.3. \n",
    "\n",
    "More info in: https://textblob.readthedocs.io/en/dev/"
   ]
  },
  {
   "cell_type": "code",
   "execution_count": 50,
   "metadata": {},
   "outputs": [],
   "source": [
    "from textblob import TextBlob\n",
    "#df['review_body'].apply(lambda tweet: TextBlob(tweet).sentiment) # (polarity, subjectivity) \n",
    "#xx = df['review_body'].apply(lambda tweet: TextBlob(tweet).noun_phrases) "
   ]
  },
  {
   "cell_type": "code",
   "execution_count": 51,
   "metadata": {},
   "outputs": [
    {
     "data": {
      "text/plain": [
       "0     have enjoyed and admired John Storm Robert' b...\n",
       "1         one of the best sources of corporate finance\n",
       "2     expected better quality. The video is fuzzy a...\n",
       "3    This is great immersion type learning for the ...\n",
       "4    My husband and are in our 50', are beginning S...\n",
       "Name: review_body, dtype: object"
      ]
     },
     "execution_count": 51,
     "metadata": {},
     "output_type": "execute_result"
    }
   ],
   "source": [
    "df['review_body'].head()"
   ]
  },
  {
   "cell_type": "markdown",
   "metadata": {},
   "source": [
    "## **BASELINE MODEL** "
   ]
  },
  {
   "cell_type": "markdown",
   "metadata": {},
   "source": [
    "First we will develop a simple model, that we are going to use as Baseline.\n",
    "\n",
    "For our baseline model we will do:\n",
    "* Tokenizing sentences to a list of separate words\n",
    "* Creating a train test split\n",
    "* Inspecting our data a little more to validate results"
   ]
  },
  {
   "cell_type": "code",
   "execution_count": 52,
   "metadata": {},
   "outputs": [],
   "source": [
    "from nltk.tokenize import RegexpTokenizer\n",
    "\n",
    "tokenizer = RegexpTokenizer(r'\\w+')\n",
    "\n",
    "df[\"token_product_title\"] = df[\"product_title\"].apply(tokenizer.tokenize)\n",
    "df[\"token_review_body\"] = df[\"review_body\"].apply(tokenizer.tokenize)\n",
    "df[\"token_review_headline\"] = df[\"review_headline\"].apply(tokenizer.tokenize)"
   ]
  },
  {
   "cell_type": "markdown",
   "metadata": {},
   "source": [
    "## **Inspecting tokens**"
   ]
  },
  {
   "cell_type": "code",
   "execution_count": 53,
   "metadata": {},
   "outputs": [
    {
     "name": "stdout",
     "output_type": "stream",
     "text": [
      "Column  token_product_title  have 2643429 words total, with a vocabulary size of 16260\n",
      "Max sentence length is 52\n",
      "Column  token_review_body  have 49261970 words total, with a vocabulary size of 233708\n",
      "Max sentence length is 7902\n",
      "Column  token_review_headline  have 2639758 words total, with a vocabulary size of 65131\n",
      "Max sentence length is 24706\n"
     ]
    }
   ],
   "source": [
    "sentence_lengths_1 = descriptive_tokens(df, name = \"token_product_title\")\n",
    "sentence_lengths_2 = descriptive_tokens(df, name = \"token_review_body\")\n",
    "sentence_lengths_3 = descriptive_tokens(df, name = \"token_review_headline\")"
   ]
  },
  {
   "cell_type": "code",
   "execution_count": 54,
   "metadata": {},
   "outputs": [
    {
     "data": {
      "image/png": "[encoded data removed]",
      "text/plain": [
       "<Figure size 720x360 with 3 Axes>"
      ]
     },
     "metadata": {
      "needs_background": "light"
     },
     "output_type": "display_data"
    }
   ],
   "source": [
    "%matplotlib inline\n",
    "fig= plt.figure(figsize=(10, 5)) \n",
    "plt.subplot(1, 3, 1) \n",
    "plt.xlabel('Sentence length')\n",
    "plt.ylabel('Number of sentences product title')\n",
    "plt.hist(sentence_lengths_1)\n",
    "plt.subplot(1, 3, 2)\n",
    "plt.xlabel('Sentence length')\n",
    "plt.ylabel('Number of sentences review body')\n",
    "plt.hist(sentence_lengths_2)\n",
    "plt.subplot(1, 3, 3)\n",
    "plt.xlabel('Sentence length')\n",
    "plt.ylabel('Number of sentences review headline')\n",
    "plt.hist(sentence_lengths_3)\n",
    "plt.show()"
   ]
  },
  {
   "cell_type": "code",
   "execution_count": 55,
   "metadata": {},
   "outputs": [],
   "source": [
    "## **concatenate columns**\n",
    "\n",
    "#We will use a concatination of columns, to see if we include review information or not\n",
    "\n",
    "#\n",
    "#df['full_text'] = df[\"product_title\"] + \" \" + df[\"review_body\"]  + \" \" + df[\"review_headline\"]\n",
    "df['product_title'] = df[\"product_title\"] #+ \" \" + df[\"review_body\"] #  + \" \" + df[\"review_headline\"] #"
   ]
  },
  {
   "cell_type": "code",
   "execution_count": 56,
   "metadata": {},
   "outputs": [
    {
     "data": {
      "text/html": [
       "<div>\n",
       "<style scoped>\n",
       "    .dataframe tbody tr th:only-of-type {\n",
       "        vertical-align: middle;\n",
       "    }\n",
       "\n",
       "    .dataframe tbody tr th {\n",
       "        vertical-align: top;\n",
       "    }\n",
       "\n",
       "    .dataframe thead th {\n",
       "        text-align: right;\n",
       "    }\n",
       "</style>\n",
       "<table border=\"1\" class=\"dataframe\">\n",
       "  <thead>\n",
       "    <tr style=\"text-align: right;\">\n",
       "      <th></th>\n",
       "      <th>review_id</th>\n",
       "      <th>product_id</th>\n",
       "      <th>product_title</th>\n",
       "      <th>product_category</th>\n",
       "      <th>review_headline</th>\n",
       "      <th>review_body</th>\n",
       "      <th>product_category_label</th>\n",
       "      <th>star_rating</th>\n",
       "      <th>helpful_votes</th>\n",
       "      <th>total_votes</th>\n",
       "      <th>...</th>\n",
       "      <th>title_years</th>\n",
       "      <th>end_number</th>\n",
       "      <th>starts_number</th>\n",
       "      <th>word_sep</th>\n",
       "      <th>title_old_version</th>\n",
       "      <th>len_review_body</th>\n",
       "      <th>len_review_headline</th>\n",
       "      <th>token_product_title</th>\n",
       "      <th>token_review_body</th>\n",
       "      <th>token_review_headline</th>\n",
       "    </tr>\n",
       "  </thead>\n",
       "  <tbody>\n",
       "    <tr>\n",
       "      <td>0</td>\n",
       "      <td>RING4VEIUW4Y1</td>\n",
       "      <td>0028650506</td>\n",
       "      <td>black music worlds cd</td>\n",
       "      <td>2</td>\n",
       "      <td>teachers and students BEWARE !!!</td>\n",
       "      <td>have enjoyed and admired John Storm Robert' b...</td>\n",
       "      <td>Software</td>\n",
       "      <td>1</td>\n",
       "      <td>0</td>\n",
       "      <td>0</td>\n",
       "      <td>...</td>\n",
       "      <td>0</td>\n",
       "      <td>0</td>\n",
       "      <td>0</td>\n",
       "      <td>0</td>\n",
       "      <td>0</td>\n",
       "      <td>1066</td>\n",
       "      <td>32</td>\n",
       "      <td>[black, music, worlds, cd]</td>\n",
       "      <td>[have, enjoyed, and, admired, John, Storm, Rob...</td>\n",
       "      <td>[teachers, and, students, BEWARE]</td>\n",
       "    </tr>\n",
       "    <tr>\n",
       "      <td>1</td>\n",
       "      <td>R38LNO9CFVPKQS</td>\n",
       "      <td>0030331927</td>\n",
       "      <td>intermediate fin mgmt</td>\n",
       "      <td>2</td>\n",
       "      <td>one of the best sources of corporate finance</td>\n",
       "      <td>one of the best sources of corporate finance</td>\n",
       "      <td>Software</td>\n",
       "      <td>5</td>\n",
       "      <td>3</td>\n",
       "      <td>15</td>\n",
       "      <td>...</td>\n",
       "      <td>0</td>\n",
       "      <td>0</td>\n",
       "      <td>0</td>\n",
       "      <td>0</td>\n",
       "      <td>0</td>\n",
       "      <td>44</td>\n",
       "      <td>44</td>\n",
       "      <td>[intermediate, fin, mgmt]</td>\n",
       "      <td>[one, of, the, best, sources, of, corporate, f...</td>\n",
       "      <td>[one, of, the, best, sources, of, corporate, f...</td>\n",
       "    </tr>\n",
       "    <tr>\n",
       "      <td>2</td>\n",
       "      <td>RABIWWF1PLRZ4</td>\n",
       "      <td>0071480935</td>\n",
       "      <td>sing watc amp learn spanis fun music videos in...</td>\n",
       "      <td>2</td>\n",
       "      <td>Loses One' Attention</td>\n",
       "      <td>expected better quality. The video is fuzzy a...</td>\n",
       "      <td>Software</td>\n",
       "      <td>3</td>\n",
       "      <td>0</td>\n",
       "      <td>0</td>\n",
       "      <td>...</td>\n",
       "      <td>0</td>\n",
       "      <td>0</td>\n",
       "      <td>0</td>\n",
       "      <td>0</td>\n",
       "      <td>0</td>\n",
       "      <td>275</td>\n",
       "      <td>21</td>\n",
       "      <td>[sing, watc, amp, learn, spanis, fun, music, v...</td>\n",
       "      <td>[expected, better, quality, The, video, is, fu...</td>\n",
       "      <td>[Loses, One, Attention]</td>\n",
       "    </tr>\n",
       "    <tr>\n",
       "      <td>3</td>\n",
       "      <td>R131XDRSFWXBGA</td>\n",
       "      <td>0071480935</td>\n",
       "      <td>sing watc amp learn spanis fun music videos in...</td>\n",
       "      <td>2</td>\n",
       "      <td>This is one of my favorite kids spanish learni...</td>\n",
       "      <td>This is great immersion type learning for the ...</td>\n",
       "      <td>Software</td>\n",
       "      <td>5</td>\n",
       "      <td>0</td>\n",
       "      <td>0</td>\n",
       "      <td>...</td>\n",
       "      <td>0</td>\n",
       "      <td>0</td>\n",
       "      <td>0</td>\n",
       "      <td>0</td>\n",
       "      <td>0</td>\n",
       "      <td>232</td>\n",
       "      <td>55</td>\n",
       "      <td>[sing, watc, amp, learn, spanis, fun, music, v...</td>\n",
       "      <td>[This, is, great, immersion, type, learning, f...</td>\n",
       "      <td>[This, is, one, of, my, favorite, kids, spanis...</td>\n",
       "    </tr>\n",
       "    <tr>\n",
       "      <td>4</td>\n",
       "      <td>RB2EAMTUSLP1V</td>\n",
       "      <td>0071480935</td>\n",
       "      <td>sing watc amp learn spanis fun music videos in...</td>\n",
       "      <td>2</td>\n",
       "      <td>Grown ups even like it!</td>\n",
       "      <td>My husband and are in our 50', are beginning S...</td>\n",
       "      <td>Software</td>\n",
       "      <td>5</td>\n",
       "      <td>2</td>\n",
       "      <td>2</td>\n",
       "      <td>...</td>\n",
       "      <td>0</td>\n",
       "      <td>0</td>\n",
       "      <td>0</td>\n",
       "      <td>0</td>\n",
       "      <td>0</td>\n",
       "      <td>415</td>\n",
       "      <td>23</td>\n",
       "      <td>[sing, watc, amp, learn, spanis, fun, music, v...</td>\n",
       "      <td>[My, husband, and, are, in, our, 50, are, begi...</td>\n",
       "      <td>[Grown, ups, even, like, it]</td>\n",
       "    </tr>\n",
       "  </tbody>\n",
       "</table>\n",
       "<p>5 rows × 32 columns</p>\n",
       "</div>"
      ],
      "text/plain": [
       "        review_id  product_id  \\\n",
       "0   RING4VEIUW4Y1  0028650506   \n",
       "1  R38LNO9CFVPKQS  0030331927   \n",
       "2   RABIWWF1PLRZ4  0071480935   \n",
       "3  R131XDRSFWXBGA  0071480935   \n",
       "4   RB2EAMTUSLP1V  0071480935   \n",
       "\n",
       "                                       product_title  product_category  \\\n",
       "0                              black music worlds cd                 2   \n",
       "1                             intermediate fin mgmt                  2   \n",
       "2  sing watc amp learn spanis fun music videos in...                 2   \n",
       "3  sing watc amp learn spanis fun music videos in...                 2   \n",
       "4  sing watc amp learn spanis fun music videos in...                 2   \n",
       "\n",
       "                                     review_headline  \\\n",
       "0                   teachers and students BEWARE !!!   \n",
       "1       one of the best sources of corporate finance   \n",
       "2                               Loses One' Attention   \n",
       "3  This is one of my favorite kids spanish learni...   \n",
       "4                            Grown ups even like it!   \n",
       "\n",
       "                                         review_body product_category_label  \\\n",
       "0   have enjoyed and admired John Storm Robert' b...               Software   \n",
       "1       one of the best sources of corporate finance               Software   \n",
       "2   expected better quality. The video is fuzzy a...               Software   \n",
       "3  This is great immersion type learning for the ...               Software   \n",
       "4  My husband and are in our 50', are beginning S...               Software   \n",
       "\n",
       "   star_rating  helpful_votes  total_votes  ... title_years  end_number  \\\n",
       "0            1              0            0  ...           0           0   \n",
       "1            5              3           15  ...           0           0   \n",
       "2            3              0            0  ...           0           0   \n",
       "3            5              0            0  ...           0           0   \n",
       "4            5              2            2  ...           0           0   \n",
       "\n",
       "   starts_number  word_sep  title_old_version  len_review_body  \\\n",
       "0              0         0                  0             1066   \n",
       "1              0         0                  0               44   \n",
       "2              0         0                  0              275   \n",
       "3              0         0                  0              232   \n",
       "4              0         0                  0              415   \n",
       "\n",
       "   len_review_headline                                token_product_title  \\\n",
       "0                   32                         [black, music, worlds, cd]   \n",
       "1                   44                          [intermediate, fin, mgmt]   \n",
       "2                   21  [sing, watc, amp, learn, spanis, fun, music, v...   \n",
       "3                   55  [sing, watc, amp, learn, spanis, fun, music, v...   \n",
       "4                   23  [sing, watc, amp, learn, spanis, fun, music, v...   \n",
       "\n",
       "                                   token_review_body  \\\n",
       "0  [have, enjoyed, and, admired, John, Storm, Rob...   \n",
       "1  [one, of, the, best, sources, of, corporate, f...   \n",
       "2  [expected, better, quality, The, video, is, fu...   \n",
       "3  [This, is, great, immersion, type, learning, f...   \n",
       "4  [My, husband, and, are, in, our, 50, are, begi...   \n",
       "\n",
       "                               token_review_headline  \n",
       "0                  [teachers, and, students, BEWARE]  \n",
       "1  [one, of, the, best, sources, of, corporate, f...  \n",
       "2                            [Loses, One, Attention]  \n",
       "3  [This, is, one, of, my, favorite, kids, spanis...  \n",
       "4                       [Grown, ups, even, like, it]  \n",
       "\n",
       "[5 rows x 32 columns]"
      ]
     },
     "execution_count": 56,
     "metadata": {},
     "output_type": "execute_result"
    }
   ],
   "source": [
    "df.head()"
   ]
  },
  {
   "cell_type": "markdown",
   "metadata": {},
   "source": [
    "## **Enter embeddings**\n",
    "\n",
    "Machine Learning on images can use raw pixels as inputs. A way to represent text is to encode each character individually, this seems quite inadequate to represent and understand language. Our goal is to first create a useful embedding for each sentence in our dataset, and then use these embeddings to accurately predict the relevant category.\n",
    "\n",
    "The most simplest approach is to use a **bag of words model**, and apply a machine learning algorimth (like, logistic, naive bayes, between others). A bag of words just associates an index to each word in our vocabulary, and embeds each sentence as a list of 0s, with a 1 at each index corresponding to a word present in the sentence."
   ]
  },
  {
   "cell_type": "markdown",
   "metadata": {},
   "source": [
    "## **Bag of Words**"
   ]
  },
  {
   "cell_type": "markdown",
   "metadata": {},
   "source": [
    "### **combine numerica and nonnumeric data**"
   ]
  },
  {
   "cell_type": "code",
   "execution_count": 57,
   "metadata": {},
   "outputs": [
    {
     "data": {
      "text/plain": [
       "Index(['review_id', 'product_id', 'product_title', 'product_category',\n",
       "       'review_headline', 'review_body', 'product_category_label',\n",
       "       'star_rating', 'helpful_votes', 'total_votes', 'verified_purchase',\n",
       "       'title_len', 'title_words', 'title_points', 'title_exc', 'title_int',\n",
       "       'ratio_spaces_point', 'ratio_len_points', 'title_cd', 'title_th',\n",
       "       'title_upper_letters', 'title_numbers', 'title_years', 'end_number',\n",
       "       'starts_number', 'word_sep', 'title_old_version', 'len_review_body',\n",
       "       'len_review_headline', 'token_product_title', 'token_review_body',\n",
       "       'token_review_headline'],\n",
       "      dtype='object')"
      ]
     },
     "execution_count": 57,
     "metadata": {},
     "output_type": "execute_result"
    }
   ],
   "source": [
    "df.columns"
   ]
  },
  {
   "cell_type": "code",
   "execution_count": 58,
   "metadata": {},
   "outputs": [],
   "source": [
    "from sklearn.model_selection import train_test_split\n",
    "df['product_title'] = df['review_headline']\n",
    "cols = ['product_title', 'title_len', 'title_words', 'title_points', 'title_exc', 'title_int',\n",
    "       'ratio_spaces_point', 'ratio_len_points', 'title_cd', 'title_th',\n",
    "       'title_upper_letters', 'title_numbers', 'title_years', 'end_number',\n",
    "       'starts_number', 'word_sep', 'title_old_version', 'len_review_body',\n",
    "       'len_review_headline', 'token_product_title', 'token_review_body',\n",
    "       'token_review_headline']\n",
    "\n",
    "df_corpus = df[cols]\n",
    "df_labels = df[\"product_category\"] \n",
    "\n",
    "X_train, X_test, y_train, y_test = train_test_split(df_corpus, df_labels, test_size=0.2, \n",
    "                                                                                random_state=40)\n"
   ]
  },
  {
   "cell_type": "code",
   "execution_count": 59,
   "metadata": {},
   "outputs": [
    {
     "data": {
      "text/html": [
       "<div>\n",
       "<style scoped>\n",
       "    .dataframe tbody tr th:only-of-type {\n",
       "        vertical-align: middle;\n",
       "    }\n",
       "\n",
       "    .dataframe tbody tr th {\n",
       "        vertical-align: top;\n",
       "    }\n",
       "\n",
       "    .dataframe thead th {\n",
       "        text-align: right;\n",
       "    }\n",
       "</style>\n",
       "<table border=\"1\" class=\"dataframe\">\n",
       "  <thead>\n",
       "    <tr style=\"text-align: right;\">\n",
       "      <th></th>\n",
       "      <th>product_title</th>\n",
       "      <th>title_len</th>\n",
       "      <th>title_words</th>\n",
       "      <th>title_points</th>\n",
       "      <th>title_exc</th>\n",
       "      <th>title_int</th>\n",
       "      <th>ratio_spaces_point</th>\n",
       "      <th>ratio_len_points</th>\n",
       "      <th>title_cd</th>\n",
       "      <th>title_th</th>\n",
       "      <th>...</th>\n",
       "      <th>title_years</th>\n",
       "      <th>end_number</th>\n",
       "      <th>starts_number</th>\n",
       "      <th>word_sep</th>\n",
       "      <th>title_old_version</th>\n",
       "      <th>len_review_body</th>\n",
       "      <th>len_review_headline</th>\n",
       "      <th>token_product_title</th>\n",
       "      <th>token_review_body</th>\n",
       "      <th>token_review_headline</th>\n",
       "    </tr>\n",
       "  </thead>\n",
       "  <tbody>\n",
       "    <tr>\n",
       "      <td>377421</td>\n",
       "      <td>great</td>\n",
       "      <td>45</td>\n",
       "      <td>7</td>\n",
       "      <td>0</td>\n",
       "      <td>0</td>\n",
       "      <td>0</td>\n",
       "      <td>5.625000</td>\n",
       "      <td>7.0</td>\n",
       "      <td>0</td>\n",
       "      <td>0</td>\n",
       "      <td>...</td>\n",
       "      <td>1</td>\n",
       "      <td>1</td>\n",
       "      <td>0</td>\n",
       "      <td>1</td>\n",
       "      <td>0</td>\n",
       "      <td>126</td>\n",
       "      <td>5</td>\n",
       "      <td>[turbotax, deluxe, federal, efile, state]</td>\n",
       "      <td>[normally, just, go, to, the, local, office, s...</td>\n",
       "      <td>[great]</td>\n",
       "    </tr>\n",
       "    <tr>\n",
       "      <td>460384</td>\n",
       "      <td>Five Stars</td>\n",
       "      <td>19</td>\n",
       "      <td>3</td>\n",
       "      <td>0</td>\n",
       "      <td>0</td>\n",
       "      <td>0</td>\n",
       "      <td>4.750000</td>\n",
       "      <td>3.0</td>\n",
       "      <td>0</td>\n",
       "      <td>0</td>\n",
       "      <td>...</td>\n",
       "      <td>0</td>\n",
       "      <td>0</td>\n",
       "      <td>0</td>\n",
       "      <td>0</td>\n",
       "      <td>0</td>\n",
       "      <td>18</td>\n",
       "      <td>10</td>\n",
       "      <td>[xbox, live, gift, card]</td>\n",
       "      <td>[Quick, and, accurate]</td>\n",
       "      <td>[Five, Stars]</td>\n",
       "    </tr>\n",
       "    <tr>\n",
       "      <td>548103</td>\n",
       "      <td>Great tax software.</td>\n",
       "      <td>45</td>\n",
       "      <td>8</td>\n",
       "      <td>0</td>\n",
       "      <td>0</td>\n",
       "      <td>0</td>\n",
       "      <td>5.000000</td>\n",
       "      <td>8.0</td>\n",
       "      <td>0</td>\n",
       "      <td>0</td>\n",
       "      <td>...</td>\n",
       "      <td>0</td>\n",
       "      <td>0</td>\n",
       "      <td>0</td>\n",
       "      <td>1</td>\n",
       "      <td>0</td>\n",
       "      <td>197</td>\n",
       "      <td>19</td>\n",
       "      <td>[turbotax, ome, business, fed, efile, state]</td>\n",
       "      <td>[It, turbotax, and, have, been, using, it, sin...</td>\n",
       "      <td>[Great, tax, software]</td>\n",
       "    </tr>\n",
       "    <tr>\n",
       "      <td>82371</td>\n",
       "      <td>review</td>\n",
       "      <td>52</td>\n",
       "      <td>7</td>\n",
       "      <td>0</td>\n",
       "      <td>0</td>\n",
       "      <td>0</td>\n",
       "      <td>6.500000</td>\n",
       "      <td>7.0</td>\n",
       "      <td>0</td>\n",
       "      <td>0</td>\n",
       "      <td>...</td>\n",
       "      <td>1</td>\n",
       "      <td>0</td>\n",
       "      <td>0</td>\n",
       "      <td>0</td>\n",
       "      <td>1</td>\n",
       "      <td>125</td>\n",
       "      <td>6</td>\n",
       "      <td>[microsoft, office, ome, student, old, version]</td>\n",
       "      <td>[product, was, useful, for, what, needed, Arri...</td>\n",
       "      <td>[review]</td>\n",
       "    </tr>\n",
       "    <tr>\n",
       "      <td>473492</td>\n",
       "      <td>Four Stars</td>\n",
       "      <td>28</td>\n",
       "      <td>5</td>\n",
       "      <td>0</td>\n",
       "      <td>0</td>\n",
       "      <td>0</td>\n",
       "      <td>4.666667</td>\n",
       "      <td>5.0</td>\n",
       "      <td>0</td>\n",
       "      <td>0</td>\n",
       "      <td>...</td>\n",
       "      <td>0</td>\n",
       "      <td>0</td>\n",
       "      <td>0</td>\n",
       "      <td>0</td>\n",
       "      <td>0</td>\n",
       "      <td>69</td>\n",
       "      <td>10</td>\n",
       "      <td>[norton, user, licenses]</td>\n",
       "      <td>[Works, as, advertised, not, much, slowing, wh...</td>\n",
       "      <td>[Four, Stars]</td>\n",
       "    </tr>\n",
       "  </tbody>\n",
       "</table>\n",
       "<p>5 rows × 22 columns</p>\n",
       "</div>"
      ],
      "text/plain": [
       "              product_title  title_len  title_words  title_points  title_exc  \\\n",
       "377421                great         45            7             0          0   \n",
       "460384           Five Stars         19            3             0          0   \n",
       "548103  Great tax software.         45            8             0          0   \n",
       "82371                review         52            7             0          0   \n",
       "473492           Four Stars         28            5             0          0   \n",
       "\n",
       "        title_int  ratio_spaces_point  ratio_len_points  title_cd  title_th  \\\n",
       "377421          0            5.625000               7.0         0         0   \n",
       "460384          0            4.750000               3.0         0         0   \n",
       "548103          0            5.000000               8.0         0         0   \n",
       "82371           0            6.500000               7.0         0         0   \n",
       "473492          0            4.666667               5.0         0         0   \n",
       "\n",
       "        ...  title_years  end_number  starts_number  word_sep  \\\n",
       "377421  ...            1           1              0         1   \n",
       "460384  ...            0           0              0         0   \n",
       "548103  ...            0           0              0         1   \n",
       "82371   ...            1           0              0         0   \n",
       "473492  ...            0           0              0         0   \n",
       "\n",
       "        title_old_version  len_review_body  len_review_headline  \\\n",
       "377421                  0              126                    5   \n",
       "460384                  0               18                   10   \n",
       "548103                  0              197                   19   \n",
       "82371                   1              125                    6   \n",
       "473492                  0               69                   10   \n",
       "\n",
       "                                    token_product_title  \\\n",
       "377421        [turbotax, deluxe, federal, efile, state]   \n",
       "460384                         [xbox, live, gift, card]   \n",
       "548103     [turbotax, ome, business, fed, efile, state]   \n",
       "82371   [microsoft, office, ome, student, old, version]   \n",
       "473492                         [norton, user, licenses]   \n",
       "\n",
       "                                        token_review_body  \\\n",
       "377421  [normally, just, go, to, the, local, office, s...   \n",
       "460384                             [Quick, and, accurate]   \n",
       "548103  [It, turbotax, and, have, been, using, it, sin...   \n",
       "82371   [product, was, useful, for, what, needed, Arri...   \n",
       "473492  [Works, as, advertised, not, much, slowing, wh...   \n",
       "\n",
       "         token_review_headline  \n",
       "377421                 [great]  \n",
       "460384           [Five, Stars]  \n",
       "548103  [Great, tax, software]  \n",
       "82371                 [review]  \n",
       "473492           [Four, Stars]  \n",
       "\n",
       "[5 rows x 22 columns]"
      ]
     },
     "execution_count": 59,
     "metadata": {},
     "output_type": "execute_result"
    }
   ],
   "source": [
    "X_train.head()"
   ]
  },
  {
   "cell_type": "code",
   "execution_count": 60,
   "metadata": {},
   "outputs": [
    {
     "data": {
      "text/plain": [
       "2    68041\n",
       "1    28312\n",
       "0    20445\n",
       "Name: product_category, dtype: int64"
      ]
     },
     "execution_count": 60,
     "metadata": {},
     "output_type": "execute_result"
    }
   ],
   "source": [
    "y_test.value_counts()"
   ]
  },
  {
   "cell_type": "code",
   "execution_count": 61,
   "metadata": {},
   "outputs": [
    {
     "data": {
      "text/plain": [
       "<matplotlib.axes._subplots.AxesSubplot at 0x7efe0660e110>"
      ]
     },
     "execution_count": 61,
     "metadata": {},
     "output_type": "execute_result"
    },
    {
     "data": {
      "image/png": "[encoded data removed]",
      "text/plain": [
       "<Figure size 432x288 with 1 Axes>"
      ]
     },
     "metadata": {
      "needs_background": "light"
     },
     "output_type": "display_data"
    }
   ],
   "source": [
    "y_test.value_counts().plot('barh') "
   ]
  },
  {
   "cell_type": "code",
   "execution_count": 62,
   "metadata": {},
   "outputs": [],
   "source": [
    "\n",
    "from sklearn.feature_extraction.text import CountVectorizer, TfidfVectorizer\n",
    "\n",
    "def cv(data):\n",
    "    count_vectorizer = CountVectorizer()\n",
    "\n",
    "    emb = count_vectorizer.fit_transform(data)\n",
    "\n",
    "    return emb, count_vectorizer\n",
    "\n",
    "X_train_counts, count_vectorizer = cv(X_train['product_title'])\n",
    "X_test_counts = count_vectorizer.transform(X_test['product_title'])"
   ]
  },
  {
   "cell_type": "code",
   "execution_count": 63,
   "metadata": {},
   "outputs": [
    {
     "name": "stdout",
     "output_type": "stream",
     "text": [
      "(467188, 39954)\n"
     ]
    }
   ],
   "source": [
    "print(X_train_counts.shape)"
   ]
  },
  {
   "cell_type": "code",
   "execution_count": 64,
   "metadata": {},
   "outputs": [],
   "source": [
    "#print(X_train_counts.todense())"
   ]
  },
  {
   "cell_type": "markdown",
   "metadata": {},
   "source": [
    "## **CHI-SQUARED**"
   ]
  },
  {
   "cell_type": "markdown",
   "metadata": {},
   "source": [
    "We’ve constructed a matrix, that have a lot of unique words/columns. This data configuratio will take a very long time to make predictions. We want to speed it up, so we’ll need to cut down the column count somehow. One way to do this is to pick a subset of the columns that are the most informative."
   ]
  },
  {
   "cell_type": "code",
   "execution_count": 65,
   "metadata": {},
   "outputs": [],
   "source": [
    "from sklearn.feature_selection import SelectKBest\n",
    "from sklearn.feature_selection import chi2\n",
    "# Find the 1000 most informative columns\n",
    "selector = SelectKBest(chi2, k=1000) #further work:check other alternatives\n",
    "selector.fit(X_train_counts, y_train)\n",
    "top_words = selector.get_support().nonzero()\n",
    "\n",
    "# Pick only the most informative columns in the data.\n",
    "chi_matrix = X_train_counts[:,top_words[0]]"
   ]
  },
  {
   "cell_type": "code",
   "execution_count": 66,
   "metadata": {},
   "outputs": [
    {
     "name": "stdout",
     "output_type": "stream",
     "text": [
      "(467188, 1000)\n"
     ]
    }
   ],
   "source": [
    "print(chi_matrix.shape)"
   ]
  },
  {
   "cell_type": "code",
   "execution_count": 67,
   "metadata": {},
   "outputs": [],
   "source": [
    "X_train_counts = chi_matrix.copy()"
   ]
  },
  {
   "cell_type": "code",
   "execution_count": 68,
   "metadata": {},
   "outputs": [
    {
     "name": "stdout",
     "output_type": "stream",
     "text": [
      "(467188, 1000)\n"
     ]
    }
   ],
   "source": [
    "print(X_train_counts.shape)"
   ]
  },
  {
   "cell_type": "code",
   "execution_count": 69,
   "metadata": {},
   "outputs": [],
   "source": [
    "#TOP WORDS FOR TEST\n",
    "X_test_counts = X_test_counts[:,top_words[0]]"
   ]
  },
  {
   "cell_type": "code",
   "execution_count": 70,
   "metadata": {},
   "outputs": [
    {
     "name": "stdout",
     "output_type": "stream",
     "text": [
      "(116798, 1000)\n"
     ]
    }
   ],
   "source": [
    "print(X_test_counts.shape)"
   ]
  },
  {
   "cell_type": "markdown",
   "metadata": {},
   "source": [
    "## **NUMERICAL VARIABLES**"
   ]
  },
  {
   "cell_type": "code",
   "execution_count": 71,
   "metadata": {},
   "outputs": [],
   "source": [
    "cols = ['title_len', 'title_words', 'title_points', 'title_exc', 'title_int',\n",
    "       'ratio_spaces_point', 'ratio_len_points', 'title_cd', 'title_th',\n",
    "       'title_upper_letters', 'title_numbers', 'title_years', 'end_number',\n",
    "       'starts_number', 'word_sep', 'title_old_version', 'len_review_body',\n",
    "       'len_review_headline']"
   ]
  },
  {
   "cell_type": "code",
   "execution_count": 72,
   "metadata": {},
   "outputs": [],
   "source": [
    "X_train_num = X_train[cols]\n",
    "X_test_num = X_test[cols]"
   ]
  },
  {
   "cell_type": "code",
   "execution_count": 73,
   "metadata": {},
   "outputs": [],
   "source": [
    "#len(X_train_counts.todense())"
   ]
  },
  {
   "cell_type": "code",
   "execution_count": 74,
   "metadata": {},
   "outputs": [
    {
     "data": {
      "text/plain": [
       "467188"
      ]
     },
     "execution_count": 74,
     "metadata": {},
     "output_type": "execute_result"
    }
   ],
   "source": [
    "len(X_train_num)"
   ]
  },
  {
   "cell_type": "code",
   "execution_count": 75,
   "metadata": {},
   "outputs": [],
   "source": [
    "#X_train_counts = np.hstack([X_train_counts.todense(),np.asarray(X_train_num)])"
   ]
  },
  {
   "cell_type": "code",
   "execution_count": 76,
   "metadata": {},
   "outputs": [],
   "source": [
    "#X_test_counts = np.hstack([X_test_counts.todense(), np.asarray(X_test_num)])"
   ]
  },
  {
   "cell_type": "code",
   "execution_count": 77,
   "metadata": {},
   "outputs": [
    {
     "data": {
      "text/plain": [
       "<116798x1000 sparse matrix of type '<class 'numpy.int64'>'\n",
       "\twith 320738 stored elements in Compressed Sparse Row format>"
      ]
     },
     "execution_count": 77,
     "metadata": {},
     "output_type": "execute_result"
    }
   ],
   "source": [
    "X_test_counts"
   ]
  },
  {
   "cell_type": "markdown",
   "metadata": {},
   "source": [
    "## **Visualizing the embeddings**"
   ]
  },
  {
   "cell_type": "markdown",
   "metadata": {},
   "source": [
    "Here, we apply linear dimensionality reduction to see if we can find separations between the groups."
   ]
  },
  {
   "cell_type": "code",
   "execution_count": 78,
   "metadata": {},
   "outputs": [
    {
     "data": {
      "image/png": "[encoded data removed]",
      "text/plain": [
       "<Figure size 720x720 with 1 Axes>"
      ]
     },
     "metadata": {
      "needs_background": "light"
     },
     "output_type": "display_data"
    }
   ],
   "source": [
    "fig = plt.figure(figsize=(10, 10))          \n",
    "plot_LSA(X_train_counts, y_train)\n",
    "plt.show()"
   ]
  },
  {
   "cell_type": "markdown",
   "metadata": {},
   "source": [
    "These embeddings don't look very cleanly separated. Let's see if we can still fit a useful model on them."
   ]
  },
  {
   "cell_type": "markdown",
   "metadata": {},
   "source": [
    "### **Fitting a classifier**\n",
    "Starting with a logistic regression is a good idea. It is simple, often gets the job done, and is easy to interpret."
   ]
  },
  {
   "cell_type": "markdown",
   "metadata": {},
   "source": [
    "### **Logistic regression**"
   ]
  },
  {
   "cell_type": "code",
   "execution_count": 79,
   "metadata": {},
   "outputs": [
    {
     "data": {
      "text/plain": [
       "{0: 1.9222758487320966, 1: 1.3712913716788184, 2: 0.5712510989407373}"
      ]
     },
     "execution_count": 79,
     "metadata": {},
     "output_type": "execute_result"
    }
   ],
   "source": [
    "# balance classes \n",
    "from sklearn.utils import class_weight\n",
    "class_weights = class_weight.compute_class_weight('balanced',\n",
    "                                                 np.unique(y_train),\n",
    "                                                 y_train)\n",
    "classes = np.unique(y_train)\n",
    "class_weights = dict(zip(classes, class_weights))\n",
    "class_weights"
   ]
  },
  {
   "cell_type": "code",
   "execution_count": null,
   "metadata": {},
   "outputs": [],
   "source": [
    "from sklearn.linear_model import LogisticRegression\n",
    "clf = LogisticRegression(C=30.0, class_weight=class_weights, #class_weight = 'balanced', \n",
    "                         solver='newton-cg', \n",
    "                         multi_class='multinomial', n_jobs=1, random_state=40) #, n_jobs=-1 (default) all, -2 all cpus but one are used\n",
    "clf.fit(X_train_counts, y_train) #, class_weight=class_weights to balance data"
   ]
  },
  {
   "cell_type": "code",
   "execution_count": null,
   "metadata": {},
   "outputs": [],
   "source": [
    "y_predicted_counts = clf.predict(X_test_counts)"
   ]
  },
  {
   "cell_type": "code",
   "execution_count": null,
   "metadata": {},
   "outputs": [],
   "source": [
    "plt.hist(y_predicted_counts) "
   ]
  },
  {
   "cell_type": "markdown",
   "metadata": {},
   "source": [
    "### Evaluation\n",
    "Let's start by looking at some metrics to see if our classifier performed well at all."
   ]
  },
  {
   "cell_type": "code",
   "execution_count": null,
   "metadata": {},
   "outputs": [],
   "source": [
    "accuracy, precision, recall, f1 = get_metrics(y_test, y_predicted_counts)\n",
    "print(\"accuracy = %.3f, precision = %.3f, recall = %.3f, f1 = %.3f\" % (accuracy, precision, recall, f1))"
   ]
  },
  {
   "cell_type": "markdown",
   "metadata": {},
   "source": [
    "### **Inspection**\n",
    "A metric is one thing, but in order to make an actionnable decision, we need to actually inspect the kind of mistakes our classifier is making. Let's start by looking at the confusion matrix."
   ]
  },
  {
   "cell_type": "code",
   "execution_count": null,
   "metadata": {},
   "outputs": [],
   "source": [
    "cm = confusion_matrix(y_test, y_predicted_counts)\n",
    "fig = plt.figure(figsize=(15, 15))\n",
    "plot = plot_confusion_matrix(cm, classes=['Digital_Software', 'Digital_Video_Games', 'Software'], normalize=True, title='Confusion matrix')\n",
    "plt.show()\n",
    "print(cm)"
   ]
  },
  {
   "cell_type": "code",
   "execution_count": null,
   "metadata": {},
   "outputs": [],
   "source": [
    "#IMPORTANCE OF WORDS\n",
    "importance = get_most_important_features(count_vectorizer, clf, 10)"
   ]
  },
  {
   "cell_type": "code",
   "execution_count": null,
   "metadata": {},
   "outputs": [],
   "source": [
    "importance[1]['tops'] #tops for video games"
   ]
  },
  {
   "cell_type": "code",
   "execution_count": null,
   "metadata": {},
   "outputs": [],
   "source": [
    "importance[0]['tops'] #digital software"
   ]
  },
  {
   "cell_type": "code",
   "execution_count": null,
   "metadata": {},
   "outputs": [],
   "source": [
    "importance[2]['tops'] #software"
   ]
  },
  {
   "cell_type": "code",
   "execution_count": null,
   "metadata": {},
   "outputs": [],
   "source": [
    "#video games (1)\n",
    "top_scores_video = [a[0] for a in importance[1]['tops']]\n",
    "top_words_video = [a[1] for a in importance[1]['tops']]\n",
    "#digital software (0)\n",
    "top_scores_digital = [a[0] for a in importance[0]['tops']]\n",
    "top_words_digital = [a[1] for a in importance[0]['tops']]\n",
    "##software\n",
    "top_scores_software = [a[0] for a in importance[2]['tops']]\n",
    "top_words_software = [a[1] for a in importance[2]['tops']]\n",
    "\n",
    "print(\"Most important words\")\n",
    "plot_important_words(top_scores_video, top_words_video, name = 'Digital video Games')\n",
    "plot_important_words(top_scores_digital, top_words_digital, name = 'Digital Software')\n",
    "plot_important_words(top_scores_software, top_words_software, name = 'Software')"
   ]
  },
  {
   "cell_type": "markdown",
   "metadata": {},
   "source": [
    "## **TFIDF Bag of Words**"
   ]
  },
  {
   "cell_type": "markdown",
   "metadata": {},
   "source": [
    "Let's try a slightly more subtle approach. Now, we will use a TF-IDF (Term Frequency, Inverse Document Frequency) which means weighing words by how frequent they are in our dataset, discounting words that are too frequent (as of, the and others), because they just add noise."
   ]
  },
  {
   "cell_type": "code",
   "execution_count": null,
   "metadata": {},
   "outputs": [],
   "source": [
    "def tfidf(data):\n",
    "    tfidf_vectorizer = TfidfVectorizer()\n",
    "\n",
    "    train = tfidf_vectorizer.fit_transform(data)\n",
    "\n",
    "    return train, tfidf_vectorizer\n",
    "\n",
    "X_train_tfidf, tfidf_vectorizer = tfidf(X_train['product_title'])\n",
    "X_test_tfidf = tfidf_vectorizer.transform(X_test['product_title'])"
   ]
  },
  {
   "cell_type": "code",
   "execution_count": null,
   "metadata": {},
   "outputs": [],
   "source": [
    "print(X_train_tfidf.shape)"
   ]
  },
  {
   "cell_type": "code",
   "execution_count": null,
   "metadata": {},
   "outputs": [],
   "source": [
    "fig = plt.figure(figsize=(10, 10))          \n",
    "plot_LSA(X_train_tfidf, y_train)\n",
    "plt.show()"
   ]
  },
  {
   "cell_type": "code",
   "execution_count": null,
   "metadata": {},
   "outputs": [],
   "source": [
    "clf_tfidf = LogisticRegression(C=30.0, class_weight= class_weights,# 'balanced', \n",
    "                               solver='newton-cg', \n",
    "                         multi_class='multinomial', n_jobs=1, random_state=40)\n",
    "clf_tfidf.fit(X_train_tfidf, y_train)\n",
    "\n",
    "y_predicted_tfidf = clf_tfidf.predict(X_test_tfidf)"
   ]
  },
  {
   "cell_type": "code",
   "execution_count": null,
   "metadata": {},
   "outputs": [],
   "source": [
    "accuracy_tfidf, precision_tfidf, recall_tfidf, f1_tfidf = get_metrics(y_test, y_predicted_tfidf)\n",
    "print(\"accuracy = %.3f, precision = %.3f, recall = %.3f, f1 = %.3f\" % (accuracy_tfidf, precision_tfidf, recall_tfidf, f1_tfidf))"
   ]
  },
  {
   "cell_type": "code",
   "execution_count": null,
   "metadata": {},
   "outputs": [],
   "source": [
    "cm2 = confusion_matrix(y_test, y_predicted_tfidf)\n",
    "fig = plt.figure(figsize=(10, 10))\n",
    "plot = plot_confusion_matrix(cm2, classes=['Digital_Software', 'Digital_Video_Games', 'Software'], normalize=True, title='Confusion matrix')\n",
    "plt.show()\n",
    "print(\"TFIDF confusion matrix\")\n",
    "print(cm2)\n",
    "print(\"BoW confusion matrix\")\n",
    "print(cm)"
   ]
  },
  {
   "cell_type": "markdown",
   "metadata": {},
   "source": [
    "### Looking at important coefficients of the model\n"
   ]
  },
  {
   "cell_type": "code",
   "execution_count": null,
   "metadata": {},
   "outputs": [],
   "source": [
    "importance_tfidf = get_most_important_features(tfidf_vectorizer, clf_tfidf, 10)"
   ]
  },
  {
   "cell_type": "code",
   "execution_count": null,
   "metadata": {},
   "outputs": [],
   "source": [
    "#video games (1)\n",
    "top_scores_video = [a[0] for a in importance_tfidf[1]['tops']]\n",
    "top_words_video = [a[1] for a in importance_tfidf[1]['tops']]\n",
    "#digital software (0)\n",
    "top_scores_digital = [a[0] for a in importance_tfidf[0]['tops']]\n",
    "top_words_digital = [a[1] for a in importance_tfidf[0]['tops']]\n",
    "##software\n",
    "top_scores_software = [a[0] for a in importance_tfidf[2]['tops']]\n",
    "top_words_software = [a[1] for a in importance_tfidf[2]['tops']]\n",
    "\n",
    "print(\"Most important words\")\n",
    "plot_important_words(top_scores_video, top_words_video, name = 'Digital video Games') \n",
    "plot_important_words(top_scores_digital, top_words_digital, name = 'Digital Software')\n",
    "plot_important_words(top_scores_software, top_words_software, name = 'Software')"
   ]
  },
  {
   "cell_type": "markdown",
   "metadata": {},
   "source": [
    "The words the model picked up look much more relevant! Although our metrics on our held out validation set haven't increased much, we have much more confidence in the terms our model is using."
   ]
  },
  {
   "cell_type": "markdown",
   "metadata": {},
   "source": [
    "## **word2vec**"
   ]
  },
  {
   "cell_type": "markdown",
   "metadata": {},
   "source": [
    "### Capturing semantic meaning\n",
    "Our first models have managed to pick up on high signal words. However, it is unlikely that we will have a training set containing all relevant words. To solve this problem, we need to capture the semantic meaning of words. \n",
    "\n",
    "### Enter word2vec\n",
    "Word2vec is a model that was pre-trained on a very large set of sentences, and provides embeddings that map words that are similar close to each other. A quick way to get a sentence embedding for our classifier, is to average word2vec scores of all words in our sentence."
   ]
  },
  {
   "cell_type": "code",
   "execution_count": null,
   "metadata": {},
   "outputs": [],
   "source": [
    "#!pip install gensim\n",
    "#!pip install --upgrade pip\n",
    "\n",
    "#!wget https://github.com/mmihaltz/word2vec-GoogleNews-vectors/blob/master/GoogleNews-vectors-negative300.bin.gz"
   ]
  },
  {
   "cell_type": "markdown",
   "metadata": {},
   "source": [
    "**Note:** The load_word2vec_format() method also has an optional limit argument which will only load the supplied number of vectors – so you could use limit=500000 to cut the memory requirements by about 5/6ths. (And, since the GoogleNews and other vector sets are usually ordered from most- to least-frequent words, you'll get the 500K most-frequent words. Lower-frequency words generally have much less value and even not-as-good vectors, so it may not hurt much to ignore them.)"
   ]
  },
  {
   "cell_type": "code",
   "execution_count": null,
   "metadata": {},
   "outputs": [],
   "source": [
    "import gensim\n",
    "word2vec = gensim.models.KeyedVectors.load_word2vec_format('GoogleNews-vectors-negative300.bin', binary=True, limit = 100000)  "
   ]
  },
  {
   "cell_type": "markdown",
   "metadata": {},
   "source": [
    "# data to introduce in the model."
   ]
  },
  {
   "cell_type": "code",
   "execution_count": null,
   "metadata": {},
   "outputs": [],
   "source": [
    "df.head(2)"
   ]
  },
  {
   "cell_type": "code",
   "execution_count": null,
   "metadata": {},
   "outputs": [],
   "source": [
    "list_labels = df[\"product_category\"].tolist()\n",
    "df_corpus2 = df[[\"product_category\", 'product_title', 'token_product_title']] # introduce more columns"
   ]
  },
  {
   "cell_type": "code",
   "execution_count": null,
   "metadata": {},
   "outputs": [],
   "source": [
    "embeddings = get_word2vec_embeddings(word2vec, df_corpus2, name = 'token_product_title')\n",
    "X_train_word2vec, X_test_word2vec, y_train_word2vec, y_test_word2vec = train_test_split(embeddings, list_labels, \n",
    "                                                                                        test_size=0.2, random_state=40)"
   ]
  },
  {
   "cell_type": "code",
   "execution_count": null,
   "metadata": {},
   "outputs": [],
   "source": [
    "fig = plt.figure(figsize=(10, 10))          \n",
    "plot_LSA(embeddings, list_labels)\n",
    "plt.show()"
   ]
  },
  {
   "cell_type": "markdown",
   "metadata": {},
   "source": [
    "These look a little bit more separated, let's see how our logistic regression does on them!"
   ]
  },
  {
   "cell_type": "code",
   "execution_count": null,
   "metadata": {},
   "outputs": [],
   "source": [
    "clf_w2v = LogisticRegression(C=30.0, class_weight = class_weights, #class_weight='balanced', \n",
    "                             solver = 'newton-cg', \n",
    "                         multi_class = 'multinomial', random_state = 40)\n",
    "clf_w2v.fit(X_train_word2vec, y_train_word2vec)\n",
    "y_predicted_word2vec = clf_w2v.predict(X_test_word2vec)"
   ]
  },
  {
   "cell_type": "code",
   "execution_count": null,
   "metadata": {},
   "outputs": [],
   "source": [
    "accuracy_word2vec, precision_word2vec, recall_word2vec, f1_word2vec = get_metrics(y_test_word2vec, y_predicted_word2vec)\n",
    "print(\"accuracy = %.3f, precision = %.3f, recall = %.3f, f1 = %.3f\" % (accuracy_word2vec, precision_word2vec, \n",
    "                                                                       recall_word2vec, f1_word2vec))"
   ]
  },
  {
   "cell_type": "code",
   "execution_count": null,
   "metadata": {},
   "outputs": [],
   "source": [
    "cm_w2v = confusion_matrix(y_test_word2vec, y_predicted_word2vec)\n",
    "fig = plt.figure(figsize=(10, 10))\n",
    "plot = plot_confusion_matrix(cm, classes=['Digital_Software', 'Digital_Video_Games', 'Software'], normalize=True, title='Confusion matrix')\n",
    "plt.show()\n",
    "print(\"Word2Vec confusion matrix\")\n",
    "print(cm_w2v)\n",
    "print(\"TFIDF confusion matrix\")\n",
    "print(cm2)\n",
    "print(\"BoW confusion matrix\")\n",
    "print(cm)"
   ]
  },
  {
   "cell_type": "code",
   "execution_count": null,
   "metadata": {},
   "outputs": [],
   "source": [
    "# **More values for the logistic**"
   ]
  },
  {
   "cell_type": "code",
   "execution_count": null,
   "metadata": {},
   "outputs": [],
   "source": [
    "dicti_n = {0:\"Digital_Software\", 1:\"Digital_Video_Games\", 2:\"Software\"}"
   ]
  },
  {
   "cell_type": "code",
   "execution_count": null,
   "metadata": {},
   "outputs": [],
   "source": [
    "#clf_w2v.score(X, y)\n",
    "arr = clf_w2v.predict_proba(X_test_word2vec)\n",
    "df_predict= pd.DataFrame(data=arr)\n",
    "df_predict.columns = [\"Digital_Software\", \"Digital_Video_Games\", \"Software\"]\n",
    "arr = clf_w2v.predict(X_test_word2vec)\n",
    "df_predict['predicted_label'] = pd.DataFrame(data=arr.flatten())\n",
    "df_predict['prediction_title'] = df_predict['predicted_label'].copy()\n",
    "df_predict = df_predict.replace({\"prediction_title\": dicti_n})\n",
    "arr = np.array(y_test_word2vec)\n",
    "df_predict['real_label'] = pd.DataFrame(data=arr.flatten())\n",
    "df_predict[\"max_pred\"] = df_predict[['Digital_Software', 'Digital_Video_Games','Software']].max(axis=1)\n",
    "print(df_predict.shape)\n",
    "df_predict.head()"
   ]
  },
  {
   "cell_type": "code",
   "execution_count": null,
   "metadata": {},
   "outputs": [],
   "source": [
    "df_predict[df_predict['max_pred'] <.60].tail(20)"
   ]
  },
  {
   "cell_type": "code",
   "execution_count": null,
   "metadata": {},
   "outputs": [],
   "source": [
    "df_predict_long = pd.melt(df_predict, id_vars=['predicted_label', 'prediction_title'])\n",
    "df_predict_long.head()"
   ]
  },
  {
   "cell_type": "code",
   "execution_count": null,
   "metadata": {},
   "outputs": [],
   "source": [
    "import seaborn as sns\n",
    "sns.kdeplot(df_predict_long.loc[(df_predict_long['variable']=='Software'), \n",
    "            'value'], color='r', shade=True, Label='Software') \n",
    "sns.kdeplot(df_predict_long.loc[(df_predict_long['variable']=='Digital_Software'), \n",
    "            'value'], color='b', shade=True, Label='Digital_Software')   \n",
    "sns.kdeplot(df_predict_long.loc[(df_predict_long['variable']=='Digital_Video_Games'), \n",
    "            'value'], color='b', shade=True, Label='Digital_Video_Games')  "
   ]
  },
  {
   "cell_type": "markdown",
   "metadata": {},
   "source": [
    "### Further inspection\n",
    "In order to provide some explainability, we can leverage a black box explainer such as LIME."
   ]
  },
  {
   "cell_type": "code",
   "execution_count": null,
   "metadata": {},
   "outputs": [],
   "source": [
    "from lime import lime_text\n",
    "from sklearn.pipeline import make_pipeline\n",
    "from lime.lime_text import LimeTextExplainer\n",
    "\n",
    "df_corpus = df['product_title'] #df['review_headline']#df['full_text']\n",
    "#df_corpus = df['review_body', 'review_headline']\n",
    "df_labels = df[\"product_category\"] \n",
    "\n",
    "\n",
    "X_train_data, X_test_data, y_train_data, y_test_data = train_test_split(df_corpus, df_labels, test_size=0.2, \n",
    "                                                                                random_state=40)\n",
    "vector_store = word2vec\n",
    "def word2vec_pipeline(examples):\n",
    "    global vector_store\n",
    "    tokenizer = RegexpTokenizer(r'\\w+')\n",
    "    tokenized_list = []\n",
    "    for example in examples:\n",
    "        example_tokens = tokenizer.tokenize(example)\n",
    "        vectorized_example = get_average_word2vec(example_tokens, vector_store, generate_missing=False, k=300)\n",
    "        tokenized_list.append(vectorized_example)\n",
    "    return clf_w2v.predict_proba(tokenized_list)\n",
    "\n",
    "c = make_pipeline(count_vectorizer, clf)"
   ]
  },
  {
   "cell_type": "code",
   "execution_count": null,
   "metadata": {},
   "outputs": [],
   "source": [
    "def explain_one_instance(instance, class_names):\n",
    "    '''\n",
    "    num_features: num of features to use to explain\n",
    "    top_labels: number of labels to use\n",
    "    '''\n",
    "    explainer = LimeTextExplainer(class_names=class_names)\n",
    "    exp = explainer.explain_instance(instance, word2vec_pipeline, num_features=15,  top_labels=2)\n",
    "    return exp\n",
    "\n",
    "def visualize_one_exp(features, labels, index, class_names):\n",
    "    exp = explain_one_instance(features[index], class_names = class_names)\n",
    "    print('Index: %d' % index)\n",
    "    print('True class: %s' % class_names[labels[index]])\n",
    "    exp.show_in_notebook(text=True)"
   ]
  },
  {
   "cell_type": "code",
   "execution_count": null,
   "metadata": {},
   "outputs": [],
   "source": [
    "X_test_data"
   ]
  },
  {
   "cell_type": "code",
   "execution_count": null,
   "metadata": {},
   "outputs": [],
   "source": [
    "class_names = ['Digital_Software', 'Digital_Video_Games', 'Software']\n",
    "visualize_one_exp(X_test_data, y_test_data, 54, class_names)"
   ]
  },
  {
   "cell_type": "code",
   "execution_count": null,
   "metadata": {},
   "outputs": [],
   "source": [
    "visualize_one_exp(X_test_data, y_test_data, 160, class_names)"
   ]
  },
  {
   "cell_type": "code",
   "execution_count": null,
   "metadata": {},
   "outputs": [],
   "source": [
    "visualize_one_exp(X_test_data, y_test_data, 31937, class_names)"
   ]
  },
  {
   "cell_type": "code",
   "execution_count": null,
   "metadata": {},
   "outputs": [],
   "source": [
    "label_to_text = {\n",
    "    0: \"Digital_Software\", \n",
    "    1: \"Digital_Video_Games\", \n",
    "    2: \"Software\"\n",
    "}\n",
    "random.seed(40)\n",
    "#importance of words\n",
    "sorted_contributions = get_statistical_explanation(X_test_data.tolist(), 100, word2vec_pipeline, label_to_text)"
   ]
  },
  {
   "cell_type": "code",
   "execution_count": null,
   "metadata": {},
   "outputs": [],
   "source": [
    "sorted_contributions"
   ]
  },
  {
   "cell_type": "code",
   "execution_count": null,
   "metadata": {},
   "outputs": [],
   "source": [
    "#Software\n",
    "top_words_Software = sorted_contributions['Software']['tops'][:10].index.tolist()\n",
    "top_scores_Software = sorted_contributions['Software']['tops'][:10].tolist()\n",
    "top_words_GAMES = sorted_contributions['Digital_Video_Games']['tops'][:10].index.tolist()\n",
    "top_scores_GAMES = sorted_contributions['Digital_Video_Games']['tops'][:10].tolist()\n",
    "top_words_Digital = sorted_contributions['Digital_Software']['tops'][:10].index.tolist()\n",
    "top_scores_Digital = sorted_contributions['Digital_Software']['tops'][:10].tolist()\n",
    "\n",
    "plot_important_words(top_scores_Software, top_words_Software, \"Software\")\n",
    "plot_important_words(top_scores_GAMES, top_words_GAMES, \"Digital Video Games\")\n",
    "plot_important_words(top_scores_Digital, top_words_Digital, 'Digital Software')\n",
    " "
   ]
  },
  {
   "cell_type": "markdown",
   "metadata": {},
   "source": [
    "## **Conclusion:**\n",
    "\n",
    "We get better results with **TFIDF Bag of Words** option. Also, aggregate review info to the model does not help to the improvement of the results of the model that only consider 'product title'. Further analysis are required to get a better model."
   ]
  },
  {
   "cell_type": "markdown",
   "metadata": {},
   "source": [
    "# **NEXT STEPS**\n",
    "\n",
    "### Based in the results there are several things to do to improve the results:\n",
    "1. Improve the text treatment, there are words that have misspelling or not sense. More time cleaning it is necessary. Also, it is necessary to spend more time cleaning reviews (eliminate adjectives, verbs, keep only noums that can help to identify the category).\n",
    "2. Use n_grams > 1. A word by itself may mean nothing, specially when we are treating with names of products.\n",
    "3. This first approach was mostly exploratory, for this reason we only use logistic regression, but there are models that may help to improve the results (based tree methodologies, deep leaning, bayesian methods, between others), aditionally would be interesting combine different methodolofies using emsemble methodologies like (max voting, averaging, bagging or boosting). Compare the results with ROC curves and information criteria as AIC and BIC.\n",
    "4. We can try to improve the results combining text with numerical variables. Use number of votes to give more weights to those reviews with more votes may help to find better keywords for the products. Include a label for relevant/irrelenvant information based in the available information.\n",
    "5. Use Spark to speed the results.\n",
    "6. Use methodologies as SMOTE to balance the data.\n",
    "7. Explore other alternative to Word2Vect like: fastText GloVe or ELMO. Consider other alternatives like pre-trained NLP models to get better results, as for example BERT, ULMFIT, between others.\n",
    "8. Use BlazingText’s implemetation of Word2Vec.\n",
    "9. Use H2OAutoML algorithm to if we can improve the results.\n",
    "10. INclude more categories to the analysis.\n",
    "11. Implement the ideas wrote at the beggining to fight misclassification issues.\n",
    "12. During the treatment we eliminate numbers, because we think this may aggregate noise to result. We may recheck this treatment and evaluate which may remain in the trining dataset."
   ]
  },
  {
   "cell_type": "code",
   "execution_count": null,
   "metadata": {},
   "outputs": [],
   "source": []
  },
  {
   "cell_type": "code",
   "execution_count": null,
   "metadata": {},
   "outputs": [],
   "source": []
  },
  {
   "cell_type": "code",
   "execution_count": null,
   "metadata": {},
   "outputs": [],
   "source": []
  },
  {
   "cell_type": "code",
   "execution_count": null,
   "metadata": {},
   "outputs": [],
   "source": []
  }
 ],
 "metadata": {
  "kernelspec": {
   "display_name": "Python 3",
   "language": "python",
   "name": "python3"
  },
  "language_info": {
   "codemirror_mode": {
    "name": "ipython",
    "version": 3
   },
   "file_extension": ".py",
   "mimetype": "text/x-python",
   "name": "python",
   "nbconvert_exporter": "python",
   "pygments_lexer": "ipython3",
   "version": "3.7.4"
  }
 },
 "nbformat": 4,
 "nbformat_minor": 4
}
