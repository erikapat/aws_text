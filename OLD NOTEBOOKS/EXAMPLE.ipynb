{
 "cells": [
  {
   "cell_type": "code",
   "execution_count": null,
   "metadata": {},
   "outputs": [],
   "source": []
  },
  {
   "cell_type": "code",
   "execution_count": 1,
   "metadata": {},
   "outputs": [
    {
     "name": "stderr",
     "output_type": "stream",
     "text": [
      "Using TensorFlow backend.\n",
      "/home/erikapat/anaconda3/lib/python3.7/site-packages/tensorflow/python/framework/dtypes.py:516: FutureWarning: Passing (type, 1) or '1type' as a synonym of type is deprecated; in a future version of numpy, it will be understood as (type, (1,)) / '(1,)type'.\n",
      "  _np_qint8 = np.dtype([(\"qint8\", np.int8, 1)])\n",
      "/home/erikapat/anaconda3/lib/python3.7/site-packages/tensorflow/python/framework/dtypes.py:517: FutureWarning: Passing (type, 1) or '1type' as a synonym of type is deprecated; in a future version of numpy, it will be understood as (type, (1,)) / '(1,)type'.\n",
      "  _np_quint8 = np.dtype([(\"quint8\", np.uint8, 1)])\n",
      "/home/erikapat/anaconda3/lib/python3.7/site-packages/tensorflow/python/framework/dtypes.py:518: FutureWarning: Passing (type, 1) or '1type' as a synonym of type is deprecated; in a future version of numpy, it will be understood as (type, (1,)) / '(1,)type'.\n",
      "  _np_qint16 = np.dtype([(\"qint16\", np.int16, 1)])\n",
      "/home/erikapat/anaconda3/lib/python3.7/site-packages/tensorflow/python/framework/dtypes.py:519: FutureWarning: Passing (type, 1) or '1type' as a synonym of type is deprecated; in a future version of numpy, it will be understood as (type, (1,)) / '(1,)type'.\n",
      "  _np_quint16 = np.dtype([(\"quint16\", np.uint16, 1)])\n",
      "/home/erikapat/anaconda3/lib/python3.7/site-packages/tensorflow/python/framework/dtypes.py:520: FutureWarning: Passing (type, 1) or '1type' as a synonym of type is deprecated; in a future version of numpy, it will be understood as (type, (1,)) / '(1,)type'.\n",
      "  _np_qint32 = np.dtype([(\"qint32\", np.int32, 1)])\n",
      "/home/erikapat/anaconda3/lib/python3.7/site-packages/tensorflow/python/framework/dtypes.py:525: FutureWarning: Passing (type, 1) or '1type' as a synonym of type is deprecated; in a future version of numpy, it will be understood as (type, (1,)) / '(1,)type'.\n",
      "  np_resource = np.dtype([(\"resource\", np.ubyte, 1)])\n",
      "/home/erikapat/anaconda3/lib/python3.7/site-packages/tensorboard/compat/tensorflow_stub/dtypes.py:541: FutureWarning: Passing (type, 1) or '1type' as a synonym of type is deprecated; in a future version of numpy, it will be understood as (type, (1,)) / '(1,)type'.\n",
      "  _np_qint8 = np.dtype([(\"qint8\", np.int8, 1)])\n",
      "/home/erikapat/anaconda3/lib/python3.7/site-packages/tensorboard/compat/tensorflow_stub/dtypes.py:542: FutureWarning: Passing (type, 1) or '1type' as a synonym of type is deprecated; in a future version of numpy, it will be understood as (type, (1,)) / '(1,)type'.\n",
      "  _np_quint8 = np.dtype([(\"quint8\", np.uint8, 1)])\n",
      "/home/erikapat/anaconda3/lib/python3.7/site-packages/tensorboard/compat/tensorflow_stub/dtypes.py:543: FutureWarning: Passing (type, 1) or '1type' as a synonym of type is deprecated; in a future version of numpy, it will be understood as (type, (1,)) / '(1,)type'.\n",
      "  _np_qint16 = np.dtype([(\"qint16\", np.int16, 1)])\n",
      "/home/erikapat/anaconda3/lib/python3.7/site-packages/tensorboard/compat/tensorflow_stub/dtypes.py:544: FutureWarning: Passing (type, 1) or '1type' as a synonym of type is deprecated; in a future version of numpy, it will be understood as (type, (1,)) / '(1,)type'.\n",
      "  _np_quint16 = np.dtype([(\"quint16\", np.uint16, 1)])\n",
      "/home/erikapat/anaconda3/lib/python3.7/site-packages/tensorboard/compat/tensorflow_stub/dtypes.py:545: FutureWarning: Passing (type, 1) or '1type' as a synonym of type is deprecated; in a future version of numpy, it will be understood as (type, (1,)) / '(1,)type'.\n",
      "  _np_qint32 = np.dtype([(\"qint32\", np.int32, 1)])\n",
      "/home/erikapat/anaconda3/lib/python3.7/site-packages/tensorboard/compat/tensorflow_stub/dtypes.py:550: FutureWarning: Passing (type, 1) or '1type' as a synonym of type is deprecated; in a future version of numpy, it will be understood as (type, (1,)) / '(1,)type'.\n",
      "  np_resource = np.dtype([(\"resource\", np.ubyte, 1)])\n"
     ]
    }
   ],
   "source": [
    "import keras\n",
    "import nltk\n",
    "import pandas as pd\n",
    "import numpy as np\n",
    "import re\n",
    "import codecs"
   ]
  },
  {
   "cell_type": "code",
   "execution_count": 2,
   "metadata": {},
   "outputs": [],
   "source": [
    "questions = pd.read_csv(\"stories.csv\")"
   ]
  },
  {
   "cell_type": "code",
   "execution_count": 3,
   "metadata": {},
   "outputs": [
    {
     "data": {
      "text/html": [
       "<div>\n",
       "<style scoped>\n",
       "    .dataframe tbody tr th:only-of-type {\n",
       "        vertical-align: middle;\n",
       "    }\n",
       "\n",
       "    .dataframe tbody tr th {\n",
       "        vertical-align: top;\n",
       "    }\n",
       "\n",
       "    .dataframe thead th {\n",
       "        text-align: right;\n",
       "    }\n",
       "</style>\n",
       "<table border=\"1\" class=\"dataframe\">\n",
       "  <thead>\n",
       "    <tr style=\"text-align: right;\">\n",
       "      <th></th>\n",
       "      <th>9079978</th>\n",
       "      <th>2015-02-20T11:29:58.000Z</th>\n",
       "      <th>1424431798</th>\n",
       "      <th>Immortalin</th>\n",
       "      <th>2</th>\n",
       "      <th>Unnamed: 5</th>\n",
       "      <th>0</th>\n",
       "      <th>Ask HN: Simple SaaS as first Golang web app?</th>\n",
       "    </tr>\n",
       "  </thead>\n",
       "  <tbody>\n",
       "    <tr>\n",
       "      <td>0</td>\n",
       "      <td>9079983</td>\n",
       "      <td>2015-02-20T11:34:22.000Z</td>\n",
       "      <td>1424432062</td>\n",
       "      <td>Rutger24s</td>\n",
       "      <td>1</td>\n",
       "      <td>startupjuncture.com</td>\n",
       "      <td>0</td>\n",
       "      <td>24sessions: live business advice over video-chat</td>\n",
       "    </tr>\n",
       "    <tr>\n",
       "      <td>1</td>\n",
       "      <td>9079986</td>\n",
       "      <td>2015-02-20T11:35:32.000Z</td>\n",
       "      <td>1424432132</td>\n",
       "      <td>AndrewDucker</td>\n",
       "      <td>3</td>\n",
       "      <td>blog.erratasec.com</td>\n",
       "      <td>0</td>\n",
       "      <td>Some notes on SuperFish</td>\n",
       "    </tr>\n",
       "    <tr>\n",
       "      <td>2</td>\n",
       "      <td>9079988</td>\n",
       "      <td>2015-02-20T11:36:18.000Z</td>\n",
       "      <td>1424432178</td>\n",
       "      <td>davidiach</td>\n",
       "      <td>1</td>\n",
       "      <td>twitter.com</td>\n",
       "      <td>0</td>\n",
       "      <td>Apple Watch models could contain 29.16g of gold</td>\n",
       "    </tr>\n",
       "    <tr>\n",
       "      <td>3</td>\n",
       "      <td>9080000</td>\n",
       "      <td>2015-02-20T11:41:06.000Z</td>\n",
       "      <td>1424432466</td>\n",
       "      <td>CiaranR</td>\n",
       "      <td>1</td>\n",
       "      <td>phpconference.co.uk</td>\n",
       "      <td>0</td>\n",
       "      <td>PHP UK Conference Diversity Scholarship Programme</td>\n",
       "    </tr>\n",
       "    <tr>\n",
       "      <td>4</td>\n",
       "      <td>9080006</td>\n",
       "      <td>2015-02-20T11:43:04.000Z</td>\n",
       "      <td>1424432584</td>\n",
       "      <td>mstolpm</td>\n",
       "      <td>2</td>\n",
       "      <td>preview.onedrive.com</td>\n",
       "      <td>2</td>\n",
       "      <td>Microsoft giving away 100GB free OneDrive stor...</td>\n",
       "    </tr>\n",
       "  </tbody>\n",
       "</table>\n",
       "</div>"
      ],
      "text/plain": [
       "   9079978  2015-02-20T11:29:58.000Z  1424431798    Immortalin  2  \\\n",
       "0  9079983  2015-02-20T11:34:22.000Z  1424432062     Rutger24s  1   \n",
       "1  9079986  2015-02-20T11:35:32.000Z  1424432132  AndrewDucker  3   \n",
       "2  9079988  2015-02-20T11:36:18.000Z  1424432178     davidiach  1   \n",
       "3  9080000  2015-02-20T11:41:06.000Z  1424432466       CiaranR  1   \n",
       "4  9080006  2015-02-20T11:43:04.000Z  1424432584       mstolpm  2   \n",
       "\n",
       "             Unnamed: 5  0       Ask HN: Simple SaaS as first Golang web app?  \n",
       "0   startupjuncture.com  0   24sessions: live business advice over video-chat  \n",
       "1    blog.erratasec.com  0                            Some notes on SuperFish  \n",
       "2           twitter.com  0    Apple Watch models could contain 29.16g of gold  \n",
       "3   phpconference.co.uk  0  PHP UK Conference Diversity Scholarship Programme  \n",
       "4  preview.onedrive.com  2  Microsoft giving away 100GB free OneDrive stor...  "
      ]
     },
     "execution_count": 3,
     "metadata": {},
     "output_type": "execute_result"
    }
   ],
   "source": [
    "questions.head()"
   ]
  },
  {
   "cell_type": "code",
   "execution_count": null,
   "metadata": {},
   "outputs": [],
   "source": []
  }
 ],
 "metadata": {
  "kernelspec": {
   "display_name": "Python 3",
   "language": "python",
   "name": "python3"
  },
  "language_info": {
   "codemirror_mode": {
    "name": "ipython",
    "version": 3
   },
   "file_extension": ".py",
   "mimetype": "text/x-python",
   "name": "python",
   "nbconvert_exporter": "python",
   "pygments_lexer": "ipython3",
   "version": "3.7.4"
  }
 },
 "nbformat": 4,
 "nbformat_minor": 4
}
