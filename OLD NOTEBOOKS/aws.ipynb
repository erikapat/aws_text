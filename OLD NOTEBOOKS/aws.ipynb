{
 "cells": [
  {
   "cell_type": "code",
   "execution_count": null,
   "metadata": {},
   "outputs": [],
   "source": []
  },
  {
   "cell_type": "code",
   "execution_count": null,
   "metadata": {},
   "outputs": [],
   "source": []
  },
  {
   "cell_type": "markdown",
   "metadata": {},
   "source": [
    "## **Links:**\n",
    "\n",
    "### **Lectures:**\n",
    "* https://towardsdatascience.com/ml-powered-product-categorization-for-smart-shopping-options-8f10d78e3294\n",
    "\n",
    "### **Data From:**\n",
    "https://s3.amazonaws.com/amazon-reviews-pds/tsv/index.txt\n",
    "\n",
    "### AWS EC2\n",
    "\n",
    "### videos\n",
    "1srt example:\n",
    "https://www.youtube.com/watch?v=R0vC31OXt-g\n",
    "\n",
    "\n",
    "## LIME MULTICLASS\n",
    "\n",
    "https://marcotcr.github.io/lime/tutorials/Lime%20-%20multiclass.html\n",
    "\n",
    "## smote in multicalss and nlp \n",
    "https://towardsdatascience.com/machine-learning-multiclass-classification-with-imbalanced-data-set-29f6a177c1a"
   ]
  },
  {
   "cell_type": "code",
   "execution_count": null,
   "metadata": {},
   "outputs": [],
   "source": []
  }
 ],
 "metadata": {
  "kernelspec": {
   "display_name": "Python 3",
   "language": "python",
   "name": "python3"
  },
  "language_info": {
   "codemirror_mode": {
    "name": "ipython",
    "version": 3
   },
   "file_extension": ".py",
   "mimetype": "text/x-python",
   "name": "python",
   "nbconvert_exporter": "python",
   "pygments_lexer": "ipython3",
   "version": "3.7.4"
  }
 },
 "nbformat": 4,
 "nbformat_minor": 4
}
