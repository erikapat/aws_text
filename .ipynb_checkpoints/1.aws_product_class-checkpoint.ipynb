{
 "cells": [
  {
   "cell_type": "markdown",
   "metadata": {},
   "source": [
    "## **PRODUCT CATEGORY CLASSIFICATION**"
   ]
  },
  {
   "cell_type": "code",
   "execution_count": 1,
   "metadata": {},
   "outputs": [],
   "source": [
    "import sagemaker\n",
    "\n",
    "sess = sagemaker.Session()\n",
    "bucket = sess.default_bucket()\n",
    "base = 'DEMO-blazingtext-review'\n",
    "prefix = 'sagemaker/' + base\n",
    "\n",
    "role = sagemaker.get_execution_role()"
   ]
  },
  {
   "cell_type": "code",
   "execution_count": 2,
   "metadata": {},
   "outputs": [],
   "source": [
    "import os\n",
    "import pandas as pd\n",
    "import numpy as np\n",
    "import boto3\n",
    "import json\n",
    "from sagemaker.predictor import json_deserializer"
   ]
  },
  {
   "cell_type": "markdown",
   "metadata": {},
   "source": [
    "## **DATA**\n",
    "For our problem we will three datasets from public datasets of Amazon. This datasets contains Customer Reviews fro three category of products.\n",
    "\n",
    "* Software\n",
    "* Digital Software\n",
    "* Digital video games"
   ]
  },
  {
   "cell_type": "code",
   "execution_count": 6,
   "metadata": {},
   "outputs": [
    {
     "name": "stdout",
     "output_type": "stream",
     "text": [
      "mkdir: cannot create directory ‘/tmp/recsys/’: File exists\n",
      "download: s3://amazon-reviews-pds/tsv/amazon_reviews_us_Digital_Video_Games_v1_00.tsv.gz to ../../../tmp/recsys/amazon_reviews_us_Digital_Video_Games_v1_00.tsv.gz\n",
      "download: s3://amazon-reviews-pds/tsv/amazon_reviews_us_Software_v1_00.tsv.gz to ../../../tmp/recsys/amazon_reviews_us_Software_v1_00.tsv.gz\n",
      "download: s3://amazon-reviews-pds/tsv/amazon_reviews_us_Digital_Software_v1_00.tsv.gz to ../../../tmp/recsys/amazon_reviews_us_Digital_Software_v1_00.tsv.gz\n"
     ]
    }
   ],
   "source": [
    "!mkdir /tmp/recsys/\n",
    "!aws s3 cp s3://amazon-reviews-pds/tsv/amazon_reviews_us_Digital_Video_Games_v1_00.tsv.gz /tmp/recsys/\n",
    "!aws s3 cp s3://amazon-reviews-pds/tsv/amazon_reviews_us_Software_v1_00.tsv.gz /tmp/recsys/\n",
    "!aws s3 cp s3://amazon-reviews-pds/tsv/amazon_reviews_us_Digital_Software_v1_00.tsv.gz /tmp/recsys/"
   ]
  },
  {
   "cell_type": "code",
   "execution_count": 7,
   "metadata": {},
   "outputs": [
    {
     "name": "stderr",
     "output_type": "stream",
     "text": [
      "b'Skipping line 8021: expected 15 fields, saw 22\\nSkipping line 34886: expected 15 fields, saw 22\\nSkipping line 49286: expected 15 fields, saw 22\\n'\n"
     ]
    }
   ],
   "source": [
    "df_video_games = pd.read_csv('/tmp/recsys/amazon_reviews_us_Digital_Video_Games_v1_00.tsv.gz', delimiter = '\\t', error_bad_lines = False)\n",
    "print('Number of rows: ', df_video_games.shape)\n",
    "df_software = pd.read_csv('/tmp/recsys/amazon_reviews_us_Software_v1_00.tsv.gz', delimiter = '\\t', error_bad_lines = False)\n",
    "df_digital_software = pd.read_csv('/tmp/recsys/amazon_reviews_us_Digital_Software_v1_00.tsv.gz', delimiter = '\\t', error_bad_lines = False)"
   ]
  },
  {
   "cell_type": "markdown",
   "metadata": {},
   "source": [
    "##**Dataset columns**\n",
    "\n",
    "* marketplace: 2-letter country\n",
    "* customer_id: random identifier for a customer\n",
    "* review_id: unique id for the review\n",
    "* product_id: ASIN number. Unique id for product\n",
    "* product_parent: the parent of that ASIN. Multiple ASINs (color or format variations of the same product) can roll up into a single parent parent.\n",
    "* product_title: title/description of the product\n",
    "* product_category: brad product category\n",
    "* star_rating: 1 to 5 stars (review rating)\n",
    "* helpful_votes: Number of helpful votes for the review\n",
    "* total_votes: number of total votes the review received\n",
    "* vine: Was the review written as part of the VIne program?\n",
    "* verified_purchase: Was the review from a verified purchase?\n",
    "* review_headline: the title of the review itself\n",
    "* review_body: text of the review\n",
    "* review_date: the date of the review was written."
   ]
  },
  {
   "cell_type": "code",
   "execution_count": 11,
   "metadata": {},
   "outputs": [
    {
     "data": {
      "text/html": [
       "<div>\n",
       "<style scoped>\n",
       "    .dataframe tbody tr th:only-of-type {\n",
       "        vertical-align: middle;\n",
       "    }\n",
       "\n",
       "    .dataframe tbody tr th {\n",
       "        vertical-align: top;\n",
       "    }\n",
       "\n",
       "    .dataframe thead th {\n",
       "        text-align: right;\n",
       "    }\n",
       "</style>\n",
       "<table border=\"1\" class=\"dataframe\">\n",
       "  <thead>\n",
       "    <tr style=\"text-align: right;\">\n",
       "      <th></th>\n",
       "      <th>marketplace</th>\n",
       "      <th>customer_id</th>\n",
       "      <th>review_id</th>\n",
       "      <th>product_id</th>\n",
       "      <th>product_parent</th>\n",
       "      <th>product_title</th>\n",
       "      <th>product_category</th>\n",
       "      <th>star_rating</th>\n",
       "      <th>helpful_votes</th>\n",
       "      <th>total_votes</th>\n",
       "      <th>vine</th>\n",
       "      <th>verified_purchase</th>\n",
       "      <th>review_headline</th>\n",
       "      <th>review_body</th>\n",
       "      <th>review_date</th>\n",
       "    </tr>\n",
       "  </thead>\n",
       "  <tbody>\n",
       "    <tr>\n",
       "      <th>144719</th>\n",
       "      <td>US</td>\n",
       "      <td>53011810</td>\n",
       "      <td>R2G7DI8NYXZB5R</td>\n",
       "      <td>B001AUEITS</td>\n",
       "      <td>163061733</td>\n",
       "      <td>Crazy Machines 2 [Download]</td>\n",
       "      <td>Digital_Video_Games</td>\n",
       "      <td>4</td>\n",
       "      <td>2</td>\n",
       "      <td>3</td>\n",
       "      <td>N</td>\n",
       "      <td>N</td>\n",
       "      <td>Worked first try for me</td>\n",
       "      <td>I was worried due to the 2 reviews I saw here,...</td>\n",
       "      <td>2008-12-25</td>\n",
       "    </tr>\n",
       "    <tr>\n",
       "      <th>144720</th>\n",
       "      <td>US</td>\n",
       "      <td>53094564</td>\n",
       "      <td>R3QRKP4DS759BP</td>\n",
       "      <td>B001AU6TQ8</td>\n",
       "      <td>801870836</td>\n",
       "      <td>Crazy Machines 1 - The Wacky Contraptions Game...</td>\n",
       "      <td>Digital_Video_Games</td>\n",
       "      <td>1</td>\n",
       "      <td>13</td>\n",
       "      <td>16</td>\n",
       "      <td>N</td>\n",
       "      <td>N</td>\n",
       "      <td>The Software May be Great, But I'll Never Know</td>\n",
       "      <td>I downloaded this as a Christmas present for m...</td>\n",
       "      <td>2008-12-24</td>\n",
       "    </tr>\n",
       "    <tr>\n",
       "      <th>144721</th>\n",
       "      <td>US</td>\n",
       "      <td>37181147</td>\n",
       "      <td>R24K4C0ZC3093U</td>\n",
       "      <td>B001AUEITS</td>\n",
       "      <td>163061733</td>\n",
       "      <td>Crazy Machines 2 [Download]</td>\n",
       "      <td>Digital_Video_Games</td>\n",
       "      <td>3</td>\n",
       "      <td>3</td>\n",
       "      <td>3</td>\n",
       "      <td>N</td>\n",
       "      <td>N</td>\n",
       "      <td>Some install problems but good otherwise</td>\n",
       "      <td>The previous reviewer is correct in noting tha...</td>\n",
       "      <td>2008-09-10</td>\n",
       "    </tr>\n",
       "    <tr>\n",
       "      <th>144722</th>\n",
       "      <td>US</td>\n",
       "      <td>18614365</td>\n",
       "      <td>R13OA3TRCM8IBM</td>\n",
       "      <td>B001AUEITS</td>\n",
       "      <td>163061733</td>\n",
       "      <td>Crazy Machines 2 [Download]</td>\n",
       "      <td>Digital_Video_Games</td>\n",
       "      <td>1</td>\n",
       "      <td>20</td>\n",
       "      <td>22</td>\n",
       "      <td>N</td>\n",
       "      <td>N</td>\n",
       "      <td>Do Not Download This!</td>\n",
       "      <td>I downloaded this for my son's birthday yester...</td>\n",
       "      <td>2008-09-01</td>\n",
       "    </tr>\n",
       "    <tr>\n",
       "      <th>144723</th>\n",
       "      <td>US</td>\n",
       "      <td>28326760</td>\n",
       "      <td>R1PFDIHC9TM6V4</td>\n",
       "      <td>B000AQ7K4I</td>\n",
       "      <td>99419628</td>\n",
       "      <td>Emperor of the Fading Suns</td>\n",
       "      <td>Digital_Video_Games</td>\n",
       "      <td>4</td>\n",
       "      <td>4</td>\n",
       "      <td>4</td>\n",
       "      <td>N</td>\n",
       "      <td>N</td>\n",
       "      <td>Suprisingly large scale and complex strategy game</td>\n",
       "      <td>This game has all the makings of a wonderful t...</td>\n",
       "      <td>2006-08-08</td>\n",
       "    </tr>\n",
       "  </tbody>\n",
       "</table>\n",
       "</div>"
      ],
      "text/plain": [
       "       marketplace  customer_id       review_id  product_id  product_parent  \\\n",
       "144719          US     53011810  R2G7DI8NYXZB5R  B001AUEITS       163061733   \n",
       "144720          US     53094564  R3QRKP4DS759BP  B001AU6TQ8       801870836   \n",
       "144721          US     37181147  R24K4C0ZC3093U  B001AUEITS       163061733   \n",
       "144722          US     18614365  R13OA3TRCM8IBM  B001AUEITS       163061733   \n",
       "144723          US     28326760  R1PFDIHC9TM6V4  B000AQ7K4I        99419628   \n",
       "\n",
       "                                            product_title  \\\n",
       "144719                        Crazy Machines 2 [Download]   \n",
       "144720  Crazy Machines 1 - The Wacky Contraptions Game...   \n",
       "144721                        Crazy Machines 2 [Download]   \n",
       "144722                        Crazy Machines 2 [Download]   \n",
       "144723                         Emperor of the Fading Suns   \n",
       "\n",
       "           product_category  star_rating  helpful_votes  total_votes vine  \\\n",
       "144719  Digital_Video_Games            4              2            3    N   \n",
       "144720  Digital_Video_Games            1             13           16    N   \n",
       "144721  Digital_Video_Games            3              3            3    N   \n",
       "144722  Digital_Video_Games            1             20           22    N   \n",
       "144723  Digital_Video_Games            4              4            4    N   \n",
       "\n",
       "       verified_purchase                                    review_headline  \\\n",
       "144719                 N                            Worked first try for me   \n",
       "144720                 N     The Software May be Great, But I'll Never Know   \n",
       "144721                 N           Some install problems but good otherwise   \n",
       "144722                 N                              Do Not Download This!   \n",
       "144723                 N  Suprisingly large scale and complex strategy game   \n",
       "\n",
       "                                              review_body review_date  \n",
       "144719  I was worried due to the 2 reviews I saw here,...  2008-12-25  \n",
       "144720  I downloaded this as a Christmas present for m...  2008-12-24  \n",
       "144721  The previous reviewer is correct in noting tha...  2008-09-10  \n",
       "144722  I downloaded this for my son's birthday yester...  2008-09-01  \n",
       "144723  This game has all the makings of a wonderful t...  2006-08-08  "
      ]
     },
     "execution_count": 11,
     "metadata": {},
     "output_type": "execute_result"
    }
   ],
   "source": [
    "df_video_games.sort_values(by = ['product_parent'])\n",
    "df_video_games.tail()"
   ]
  },
  {
   "cell_type": "code",
   "execution_count": null,
   "metadata": {},
   "outputs": [],
   "source": [
    "df_video_games.drop(columns = ['marketplace', 'customer_id', 'review_id'])"
   ]
  },
  {
   "cell_type": "code",
   "execution_count": null,
   "metadata": {},
   "outputs": [],
   "source": []
  },
  {
   "cell_type": "code",
   "execution_count": null,
   "metadata": {},
   "outputs": [],
   "source": []
  }
 ],
 "metadata": {
  "kernelspec": {
   "display_name": "Python 3",
   "language": "python",
   "name": "python3"
  },
  "language_info": {
   "codemirror_mode": {
    "name": "ipython",
    "version": 3
   },
   "file_extension": ".py",
   "mimetype": "text/x-python",
   "name": "python",
   "nbconvert_exporter": "python",
   "pygments_lexer": "ipython3",
   "version": "3.7.4"
  }
 },
 "nbformat": 4,
 "nbformat_minor": 4
}
